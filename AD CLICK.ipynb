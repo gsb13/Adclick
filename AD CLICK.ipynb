{
 "cells": [
  {
   "cell_type": "markdown",
   "metadata": {},
   "source": [
    "# Problem Statement"
   ]
  },
  {
   "cell_type": "code",
   "execution_count": null,
   "metadata": {},
   "outputs": [],
   "source": []
  },
  {
   "cell_type": "code",
   "execution_count": null,
   "metadata": {},
   "outputs": [],
   "source": []
  },
  {
   "cell_type": "raw",
   "metadata": {},
   "source": [
    "The goal of the case study is to learn from the historical data of advertisement clicks using machine learning and create a model to Predict who is going to click on the Advertisement on a website in future based on the user behaviour and user profile."
   ]
  },
  {
   "cell_type": "markdown",
   "metadata": {},
   "source": [
    "# Flow of the Project"
   ]
  },
  {
   "cell_type": "markdown",
   "metadata": {},
   "source": [
    "Reading the data in python\n",
    "Defining the problem statement\n",
    "Identifying the Target variable\n",
    "Looking at the distribution of Target variable\n",
    "Basic Data exploration\n",
    "Rejecting useless columns\n",
    "Visual Exploratory Data Analysis for data distribution (Histogram and Barcharts)\n",
    "Feature Selection based on data distribution\n",
    "Outlier treatment\n",
    "Missing Values treatment\n",
    "Visual correlation analysis\n",
    "Statistical correlation analysis (Feature Selection)\n",
    "Converting data to numeric for ML\n",
    "Sampling and K-fold cross validation\n",
    "Trying multiple classification algorithms\n",
    "Selecting the best Model\n",
    "Deploying the best model in production"
   ]
  },
  {
   "cell_type": "code",
   "execution_count": 1,
   "metadata": {},
   "outputs": [],
   "source": [
    "import warnings\n",
    "warnings.filterwarnings('ignore')"
   ]
  },
  {
   "cell_type": "code",
   "execution_count": 2,
   "metadata": {},
   "outputs": [],
   "source": [
    "import pandas as pd\n",
    "import numpy as np"
   ]
  },
  {
   "cell_type": "code",
   "execution_count": 3,
   "metadata": {},
   "outputs": [
    {
     "data": {
      "text/html": [
       "<div>\n",
       "<style scoped>\n",
       "    .dataframe tbody tr th:only-of-type {\n",
       "        vertical-align: middle;\n",
       "    }\n",
       "\n",
       "    .dataframe tbody tr th {\n",
       "        vertical-align: top;\n",
       "    }\n",
       "\n",
       "    .dataframe thead th {\n",
       "        text-align: right;\n",
       "    }\n",
       "</style>\n",
       "<table border=\"1\" class=\"dataframe\">\n",
       "  <thead>\n",
       "    <tr style=\"text-align: right;\">\n",
       "      <th></th>\n",
       "      <th>VistID</th>\n",
       "      <th>Time_Spent</th>\n",
       "      <th>Age</th>\n",
       "      <th>Avg_Income</th>\n",
       "      <th>Internet_Usage</th>\n",
       "      <th>Ad_Topic</th>\n",
       "      <th>Country_Name</th>\n",
       "      <th>City_code</th>\n",
       "      <th>Male</th>\n",
       "      <th>Time_Period</th>\n",
       "      <th>Weekday</th>\n",
       "      <th>Month</th>\n",
       "      <th>Year</th>\n",
       "      <th>Clicked</th>\n",
       "    </tr>\n",
       "  </thead>\n",
       "  <tbody>\n",
       "    <tr>\n",
       "      <th>0</th>\n",
       "      <td>5183153</td>\n",
       "      <td>87.97</td>\n",
       "      <td>43</td>\n",
       "      <td>55901.12</td>\n",
       "      <td>185.46</td>\n",
       "      <td>product_11</td>\n",
       "      <td>Serbia</td>\n",
       "      <td>City_5</td>\n",
       "      <td>No</td>\n",
       "      <td>Mid-Night</td>\n",
       "      <td>Thursday</td>\n",
       "      <td>July</td>\n",
       "      <td>2020</td>\n",
       "      <td>0</td>\n",
       "    </tr>\n",
       "    <tr>\n",
       "      <th>1</th>\n",
       "      <td>4023265</td>\n",
       "      <td>51.63</td>\n",
       "      <td>50</td>\n",
       "      <td>39132.00</td>\n",
       "      <td>176.73</td>\n",
       "      <td>product_8</td>\n",
       "      <td>Turkmenistan</td>\n",
       "      <td>City_1</td>\n",
       "      <td>No</td>\n",
       "      <td>Evening</td>\n",
       "      <td>Saturday</td>\n",
       "      <td>June</td>\n",
       "      <td>2020</td>\n",
       "      <td>1</td>\n",
       "    </tr>\n",
       "    <tr>\n",
       "      <th>2</th>\n",
       "      <td>4708083</td>\n",
       "      <td>82.37</td>\n",
       "      <td>38</td>\n",
       "      <td>57032.36</td>\n",
       "      <td>210.60</td>\n",
       "      <td>product_6</td>\n",
       "      <td>Northern Mariana Islands</td>\n",
       "      <td>City_2</td>\n",
       "      <td>No</td>\n",
       "      <td>Morning</td>\n",
       "      <td>Tuesday</td>\n",
       "      <td>January</td>\n",
       "      <td>2020</td>\n",
       "      <td>0</td>\n",
       "    </tr>\n",
       "    <tr>\n",
       "      <th>3</th>\n",
       "      <td>9771815</td>\n",
       "      <td>62.06</td>\n",
       "      <td>45</td>\n",
       "      <td>48868.00</td>\n",
       "      <td>190.05</td>\n",
       "      <td>product_19</td>\n",
       "      <td>South Africa</td>\n",
       "      <td>City_3</td>\n",
       "      <td>Yes</td>\n",
       "      <td>Morning</td>\n",
       "      <td>Thursday</td>\n",
       "      <td>April</td>\n",
       "      <td>2020</td>\n",
       "      <td>1</td>\n",
       "    </tr>\n",
       "    <tr>\n",
       "      <th>4</th>\n",
       "      <td>6451317</td>\n",
       "      <td>77.66</td>\n",
       "      <td>31</td>\n",
       "      <td>61608.23</td>\n",
       "      <td>204.86</td>\n",
       "      <td>product_11</td>\n",
       "      <td>Guadeloupe</td>\n",
       "      <td>City_2</td>\n",
       "      <td>No</td>\n",
       "      <td>Noon</td>\n",
       "      <td>Thursday</td>\n",
       "      <td>January</td>\n",
       "      <td>2020</td>\n",
       "      <td>0</td>\n",
       "    </tr>\n",
       "    <tr>\n",
       "      <th>...</th>\n",
       "      <td>...</td>\n",
       "      <td>...</td>\n",
       "      <td>...</td>\n",
       "      <td>...</td>\n",
       "      <td>...</td>\n",
       "      <td>...</td>\n",
       "      <td>...</td>\n",
       "      <td>...</td>\n",
       "      <td>...</td>\n",
       "      <td>...</td>\n",
       "      <td>...</td>\n",
       "      <td>...</td>\n",
       "      <td>...</td>\n",
       "      <td>...</td>\n",
       "    </tr>\n",
       "    <tr>\n",
       "      <th>6652</th>\n",
       "      <td>1215532</td>\n",
       "      <td>69.08</td>\n",
       "      <td>23</td>\n",
       "      <td>57756.89</td>\n",
       "      <td>195.68</td>\n",
       "      <td>product_29</td>\n",
       "      <td>Jersey</td>\n",
       "      <td>City_4</td>\n",
       "      <td>Yes</td>\n",
       "      <td>Night</td>\n",
       "      <td>Thursday</td>\n",
       "      <td>April</td>\n",
       "      <td>2020</td>\n",
       "      <td>0</td>\n",
       "    </tr>\n",
       "    <tr>\n",
       "      <th>6653</th>\n",
       "      <td>1199837</td>\n",
       "      <td>72.23</td>\n",
       "      <td>23</td>\n",
       "      <td>52968.22</td>\n",
       "      <td>247.90</td>\n",
       "      <td>product_25</td>\n",
       "      <td>Madagascar</td>\n",
       "      <td>City_5</td>\n",
       "      <td>Yes</td>\n",
       "      <td>Noon</td>\n",
       "      <td>Sunday</td>\n",
       "      <td>July</td>\n",
       "      <td>2020</td>\n",
       "      <td>0</td>\n",
       "    </tr>\n",
       "    <tr>\n",
       "      <th>6654</th>\n",
       "      <td>8523595</td>\n",
       "      <td>57.20</td>\n",
       "      <td>56</td>\n",
       "      <td>24079.00</td>\n",
       "      <td>129.23</td>\n",
       "      <td>product_24</td>\n",
       "      <td>Algeria</td>\n",
       "      <td>City_2</td>\n",
       "      <td>No</td>\n",
       "      <td>Morning</td>\n",
       "      <td>Thursday</td>\n",
       "      <td>April</td>\n",
       "      <td>2020</td>\n",
       "      <td>1</td>\n",
       "    </tr>\n",
       "    <tr>\n",
       "      <th>6655</th>\n",
       "      <td>2584490</td>\n",
       "      <td>88.04</td>\n",
       "      <td>28</td>\n",
       "      <td>64188.50</td>\n",
       "      <td>241.03</td>\n",
       "      <td>product_18</td>\n",
       "      <td>Bosnia and Herzegovina</td>\n",
       "      <td>City_7</td>\n",
       "      <td>Yes</td>\n",
       "      <td>Mid-Night</td>\n",
       "      <td>Friday</td>\n",
       "      <td>January</td>\n",
       "      <td>2020</td>\n",
       "      <td>0</td>\n",
       "    </tr>\n",
       "    <tr>\n",
       "      <th>6656</th>\n",
       "      <td>4315798</td>\n",
       "      <td>68.01</td>\n",
       "      <td>20</td>\n",
       "      <td>59761.56</td>\n",
       "      <td>214.53</td>\n",
       "      <td>product_22</td>\n",
       "      <td>Serbia</td>\n",
       "      <td>City_5</td>\n",
       "      <td>No</td>\n",
       "      <td>Night</td>\n",
       "      <td>Wednesday</td>\n",
       "      <td>July</td>\n",
       "      <td>2020</td>\n",
       "      <td>1</td>\n",
       "    </tr>\n",
       "  </tbody>\n",
       "</table>\n",
       "<p>6657 rows × 14 columns</p>\n",
       "</div>"
      ],
      "text/plain": [
       "       VistID  Time_Spent  Age  Avg_Income  Internet_Usage    Ad_Topic  \\\n",
       "0     5183153       87.97   43    55901.12          185.46  product_11   \n",
       "1     4023265       51.63   50    39132.00          176.73   product_8   \n",
       "2     4708083       82.37   38    57032.36          210.60   product_6   \n",
       "3     9771815       62.06   45    48868.00          190.05  product_19   \n",
       "4     6451317       77.66   31    61608.23          204.86  product_11   \n",
       "...       ...         ...  ...         ...             ...         ...   \n",
       "6652  1215532       69.08   23    57756.89          195.68  product_29   \n",
       "6653  1199837       72.23   23    52968.22          247.90  product_25   \n",
       "6654  8523595       57.20   56    24079.00          129.23  product_24   \n",
       "6655  2584490       88.04   28    64188.50          241.03  product_18   \n",
       "6656  4315798       68.01   20    59761.56          214.53  product_22   \n",
       "\n",
       "                  Country_Name City_code Male Time_Period    Weekday    Month  \\\n",
       "0                       Serbia    City_5   No   Mid-Night   Thursday     July   \n",
       "1                 Turkmenistan    City_1   No     Evening   Saturday     June   \n",
       "2     Northern Mariana Islands    City_2   No     Morning    Tuesday  January   \n",
       "3                 South Africa    City_3  Yes     Morning   Thursday    April   \n",
       "4                   Guadeloupe    City_2   No        Noon   Thursday  January   \n",
       "...                        ...       ...  ...         ...        ...      ...   \n",
       "6652                    Jersey    City_4  Yes       Night   Thursday    April   \n",
       "6653                Madagascar    City_5  Yes        Noon     Sunday     July   \n",
       "6654                   Algeria    City_2   No     Morning   Thursday    April   \n",
       "6655    Bosnia and Herzegovina    City_7  Yes   Mid-Night     Friday  January   \n",
       "6656                    Serbia    City_5   No       Night  Wednesday     July   \n",
       "\n",
       "      Year  Clicked  \n",
       "0     2020        0  \n",
       "1     2020        1  \n",
       "2     2020        0  \n",
       "3     2020        1  \n",
       "4     2020        0  \n",
       "...    ...      ...  \n",
       "6652  2020        0  \n",
       "6653  2020        0  \n",
       "6654  2020        1  \n",
       "6655  2020        0  \n",
       "6656  2020        1  \n",
       "\n",
       "[6657 rows x 14 columns]"
      ]
     },
     "execution_count": 3,
     "metadata": {},
     "output_type": "execute_result"
    }
   ],
   "source": [
    "#reading the dataset\n",
    "\n",
    "data = pd.read_csv('Ad click data.csv')\n",
    "data"
   ]
  },
  {
   "cell_type": "code",
   "execution_count": 4,
   "metadata": {},
   "outputs": [
    {
     "name": "stdout",
     "output_type": "stream",
     "text": [
      "Shape before deleting duplicate values: (6657, 14)\n"
     ]
    }
   ],
   "source": [
    "AdClickData=pd.read_csv(\"Ad click Data.csv\", encoding='latin')\n",
    "print('Shape before deleting duplicate values:', AdClickData.shape)"
   ]
  },
  {
   "cell_type": "code",
   "execution_count": 5,
   "metadata": {},
   "outputs": [
    {
     "name": "stdout",
     "output_type": "stream",
     "text": [
      "Shape before deleting duplicate values: (6657, 14)\n"
     ]
    }
   ],
   "source": [
    "# remove duplicate row if any\n",
    "\n",
    "AdClickData = AdClickData.drop_duplicates()\n",
    "print('Shape before deleting duplicate values:', AdClickData.shape)"
   ]
  },
  {
   "cell_type": "code",
   "execution_count": 6,
   "metadata": {},
   "outputs": [
    {
     "data": {
      "text/plain": [
       "(6657, 14)"
      ]
     },
     "execution_count": 6,
     "metadata": {},
     "output_type": "execute_result"
    }
   ],
   "source": [
    "data.shape"
   ]
  },
  {
   "cell_type": "code",
   "execution_count": 7,
   "metadata": {},
   "outputs": [
    {
     "data": {
      "text/html": [
       "<div>\n",
       "<style scoped>\n",
       "    .dataframe tbody tr th:only-of-type {\n",
       "        vertical-align: middle;\n",
       "    }\n",
       "\n",
       "    .dataframe tbody tr th {\n",
       "        vertical-align: top;\n",
       "    }\n",
       "\n",
       "    .dataframe thead th {\n",
       "        text-align: right;\n",
       "    }\n",
       "</style>\n",
       "<table border=\"1\" class=\"dataframe\">\n",
       "  <thead>\n",
       "    <tr style=\"text-align: right;\">\n",
       "      <th></th>\n",
       "      <th>VistID</th>\n",
       "      <th>Time_Spent</th>\n",
       "      <th>Age</th>\n",
       "      <th>Avg_Income</th>\n",
       "      <th>Internet_Usage</th>\n",
       "      <th>Ad_Topic</th>\n",
       "      <th>Country_Name</th>\n",
       "      <th>City_code</th>\n",
       "      <th>Male</th>\n",
       "      <th>Time_Period</th>\n",
       "      <th>Weekday</th>\n",
       "      <th>Month</th>\n",
       "      <th>Year</th>\n",
       "      <th>Clicked</th>\n",
       "    </tr>\n",
       "  </thead>\n",
       "  <tbody>\n",
       "    <tr>\n",
       "      <th>0</th>\n",
       "      <td>5183153</td>\n",
       "      <td>87.97</td>\n",
       "      <td>43</td>\n",
       "      <td>55901.12</td>\n",
       "      <td>185.46</td>\n",
       "      <td>product_11</td>\n",
       "      <td>Serbia</td>\n",
       "      <td>City_5</td>\n",
       "      <td>No</td>\n",
       "      <td>Mid-Night</td>\n",
       "      <td>Thursday</td>\n",
       "      <td>July</td>\n",
       "      <td>2020</td>\n",
       "      <td>0</td>\n",
       "    </tr>\n",
       "    <tr>\n",
       "      <th>1</th>\n",
       "      <td>4023265</td>\n",
       "      <td>51.63</td>\n",
       "      <td>50</td>\n",
       "      <td>39132.00</td>\n",
       "      <td>176.73</td>\n",
       "      <td>product_8</td>\n",
       "      <td>Turkmenistan</td>\n",
       "      <td>City_1</td>\n",
       "      <td>No</td>\n",
       "      <td>Evening</td>\n",
       "      <td>Saturday</td>\n",
       "      <td>June</td>\n",
       "      <td>2020</td>\n",
       "      <td>1</td>\n",
       "    </tr>\n",
       "    <tr>\n",
       "      <th>2</th>\n",
       "      <td>4708083</td>\n",
       "      <td>82.37</td>\n",
       "      <td>38</td>\n",
       "      <td>57032.36</td>\n",
       "      <td>210.60</td>\n",
       "      <td>product_6</td>\n",
       "      <td>Northern Mariana Islands</td>\n",
       "      <td>City_2</td>\n",
       "      <td>No</td>\n",
       "      <td>Morning</td>\n",
       "      <td>Tuesday</td>\n",
       "      <td>January</td>\n",
       "      <td>2020</td>\n",
       "      <td>0</td>\n",
       "    </tr>\n",
       "    <tr>\n",
       "      <th>3</th>\n",
       "      <td>9771815</td>\n",
       "      <td>62.06</td>\n",
       "      <td>45</td>\n",
       "      <td>48868.00</td>\n",
       "      <td>190.05</td>\n",
       "      <td>product_19</td>\n",
       "      <td>South Africa</td>\n",
       "      <td>City_3</td>\n",
       "      <td>Yes</td>\n",
       "      <td>Morning</td>\n",
       "      <td>Thursday</td>\n",
       "      <td>April</td>\n",
       "      <td>2020</td>\n",
       "      <td>1</td>\n",
       "    </tr>\n",
       "    <tr>\n",
       "      <th>4</th>\n",
       "      <td>6451317</td>\n",
       "      <td>77.66</td>\n",
       "      <td>31</td>\n",
       "      <td>61608.23</td>\n",
       "      <td>204.86</td>\n",
       "      <td>product_11</td>\n",
       "      <td>Guadeloupe</td>\n",
       "      <td>City_2</td>\n",
       "      <td>No</td>\n",
       "      <td>Noon</td>\n",
       "      <td>Thursday</td>\n",
       "      <td>January</td>\n",
       "      <td>2020</td>\n",
       "      <td>0</td>\n",
       "    </tr>\n",
       "    <tr>\n",
       "      <th>5</th>\n",
       "      <td>1475237</td>\n",
       "      <td>35.98</td>\n",
       "      <td>38</td>\n",
       "      <td>60813.00</td>\n",
       "      <td>125.20</td>\n",
       "      <td>product_10</td>\n",
       "      <td>Guernsey</td>\n",
       "      <td>City_2</td>\n",
       "      <td>Yes</td>\n",
       "      <td>Early-Morning</td>\n",
       "      <td>Saturday</td>\n",
       "      <td>July</td>\n",
       "      <td>2020</td>\n",
       "      <td>1</td>\n",
       "    </tr>\n",
       "    <tr>\n",
       "      <th>6</th>\n",
       "      <td>5578680</td>\n",
       "      <td>52.70</td>\n",
       "      <td>26</td>\n",
       "      <td>49283.00</td>\n",
       "      <td>140.83</td>\n",
       "      <td>product_1</td>\n",
       "      <td>Anguilla</td>\n",
       "      <td>City_2</td>\n",
       "      <td>Yes</td>\n",
       "      <td>Early-Morning</td>\n",
       "      <td>Tuesday</td>\n",
       "      <td>January</td>\n",
       "      <td>2020</td>\n",
       "      <td>1</td>\n",
       "    </tr>\n",
       "    <tr>\n",
       "      <th>7</th>\n",
       "      <td>4037672</td>\n",
       "      <td>82.58</td>\n",
       "      <td>23</td>\n",
       "      <td>61601.05</td>\n",
       "      <td>183.42</td>\n",
       "      <td>product_8</td>\n",
       "      <td>Switzerland</td>\n",
       "      <td>City_4</td>\n",
       "      <td>No</td>\n",
       "      <td>Noon</td>\n",
       "      <td>Sunday</td>\n",
       "      <td>July</td>\n",
       "      <td>2020</td>\n",
       "      <td>0</td>\n",
       "    </tr>\n",
       "    <tr>\n",
       "      <th>8</th>\n",
       "      <td>5792642</td>\n",
       "      <td>70.96</td>\n",
       "      <td>22</td>\n",
       "      <td>69874.18</td>\n",
       "      <td>198.72</td>\n",
       "      <td>product_29</td>\n",
       "      <td>Niue</td>\n",
       "      <td>City_3</td>\n",
       "      <td>No</td>\n",
       "      <td>Mid-Night</td>\n",
       "      <td>Tuesday</td>\n",
       "      <td>April</td>\n",
       "      <td>2020</td>\n",
       "      <td>0</td>\n",
       "    </tr>\n",
       "    <tr>\n",
       "      <th>9</th>\n",
       "      <td>9377192</td>\n",
       "      <td>56.91</td>\n",
       "      <td>50</td>\n",
       "      <td>21773.22</td>\n",
       "      <td>146.44</td>\n",
       "      <td>product_18</td>\n",
       "      <td>Norfolk Island</td>\n",
       "      <td>City_4</td>\n",
       "      <td>No</td>\n",
       "      <td>Early-Morning</td>\n",
       "      <td>Friday</td>\n",
       "      <td>April</td>\n",
       "      <td>2020</td>\n",
       "      <td>1</td>\n",
       "    </tr>\n",
       "  </tbody>\n",
       "</table>\n",
       "</div>"
      ],
      "text/plain": [
       "    VistID  Time_Spent  Age  Avg_Income  Internet_Usage    Ad_Topic  \\\n",
       "0  5183153       87.97   43    55901.12          185.46  product_11   \n",
       "1  4023265       51.63   50    39132.00          176.73   product_8   \n",
       "2  4708083       82.37   38    57032.36          210.60   product_6   \n",
       "3  9771815       62.06   45    48868.00          190.05  product_19   \n",
       "4  6451317       77.66   31    61608.23          204.86  product_11   \n",
       "5  1475237       35.98   38    60813.00          125.20  product_10   \n",
       "6  5578680       52.70   26    49283.00          140.83   product_1   \n",
       "7  4037672       82.58   23    61601.05          183.42   product_8   \n",
       "8  5792642       70.96   22    69874.18          198.72  product_29   \n",
       "9  9377192       56.91   50    21773.22          146.44  product_18   \n",
       "\n",
       "               Country_Name City_code Male    Time_Period   Weekday    Month  \\\n",
       "0                    Serbia    City_5   No      Mid-Night  Thursday     July   \n",
       "1              Turkmenistan    City_1   No        Evening  Saturday     June   \n",
       "2  Northern Mariana Islands    City_2   No        Morning   Tuesday  January   \n",
       "3              South Africa    City_3  Yes        Morning  Thursday    April   \n",
       "4                Guadeloupe    City_2   No           Noon  Thursday  January   \n",
       "5                  Guernsey    City_2  Yes  Early-Morning  Saturday     July   \n",
       "6                  Anguilla    City_2  Yes  Early-Morning   Tuesday  January   \n",
       "7               Switzerland    City_4   No           Noon    Sunday     July   \n",
       "8                      Niue    City_3   No      Mid-Night   Tuesday    April   \n",
       "9            Norfolk Island    City_4   No  Early-Morning    Friday    April   \n",
       "\n",
       "   Year  Clicked  \n",
       "0  2020        0  \n",
       "1  2020        1  \n",
       "2  2020        0  \n",
       "3  2020        1  \n",
       "4  2020        0  \n",
       "5  2020        1  \n",
       "6  2020        1  \n",
       "7  2020        0  \n",
       "8  2020        0  \n",
       "9  2020        1  "
      ]
     },
     "execution_count": 7,
     "metadata": {},
     "output_type": "execute_result"
    }
   ],
   "source": [
    "data.head(10)"
   ]
  },
  {
   "cell_type": "code",
   "execution_count": 8,
   "metadata": {},
   "outputs": [
    {
     "data": {
      "text/plain": [
       "Index(['VistID', 'Time_Spent', 'Age', 'Avg_Income', 'Internet_Usage',\n",
       "       'Ad_Topic', 'Country_Name', 'City_code', 'Male', 'Time_Period',\n",
       "       'Weekday', 'Month', 'Year', 'Clicked'],\n",
       "      dtype='object')"
      ]
     },
     "execution_count": 8,
     "metadata": {},
     "output_type": "execute_result"
    }
   ],
   "source": [
    "data.columns"
   ]
  },
  {
   "cell_type": "markdown",
   "metadata": {},
   "source": [
    "# Defining the problem statement:\n",
    "## Create a Predictive model which can tell whether a logged in user will click on a given product advertisement or not?\n",
    "    Target Variable: Clicked\n",
    "    Predictors: Time_Spent, Age, Avg_Income, Internet_Usage, Ad_Topic... etc.\n",
    "    Clicked=1 means the ad was clicked.\n",
    "    Clicked=0 means the ad was NOT clicked."
   ]
  },
  {
   "cell_type": "raw",
   "metadata": {},
   "source": [
    "# Based on the problem statement you can understand that we need to create a supervised ML classification model, as the target variable is categorical."
   ]
  },
  {
   "cell_type": "code",
   "execution_count": 9,
   "metadata": {},
   "outputs": [
    {
     "data": {
      "text/plain": [
       "<AxesSubplot:xlabel='Clicked'>"
      ]
     },
     "execution_count": 9,
     "metadata": {},
     "output_type": "execute_result"
    },
    {
     "data": {
      "image/png": "[encoded data removed]",
      "text/plain": [
       "<Figure size 288x216 with 1 Axes>"
      ]
     },
     "metadata": {
      "needs_background": "light"
     },
     "output_type": "display_data"
    }
   ],
   "source": [
    "%matplotlib inline\n",
    "# Creating Bar chart as the Target variable is Categorical\n",
    "GroupedData=AdClickData.groupby('Clicked').size()\n",
    "GroupedData.plot(kind='bar', figsize=(4,3))"
   ]
  },
  {
   "cell_type": "code",
   "execution_count": 10,
   "metadata": {},
   "outputs": [
    {
     "data": {
      "text/plain": [
       "0    3619\n",
       "1    3038\n",
       "Name: Clicked, dtype: int64"
      ]
     },
     "execution_count": 10,
     "metadata": {},
     "output_type": "execute_result"
    }
   ],
   "source": [
    "data['Clicked'].value_counts()"
   ]
  },
  {
   "cell_type": "raw",
   "metadata": {},
   "source": [
    "# The Target variable distribution looks balanced. There are enough number of rows for Clicked=0 as well Clicked=1 for the ML algorithms to learn."
   ]
  },
  {
   "cell_type": "markdown",
   "metadata": {},
   "source": [
    "# Basic Data Exploration"
   ]
  },
  {
   "cell_type": "code",
   "execution_count": null,
   "metadata": {},
   "outputs": [],
   "source": []
  },
  {
   "cell_type": "markdown",
   "metadata": {},
   "source": [
    "Does this column affect the values of the Target variable? "
   ]
  },
  {
   "cell_type": "raw",
   "metadata": {},
   "source": [
    "In this data \"VistID\", \"Country_Name\" and \"Year\" are such columns which are useless to us because it does not affect the click or no-click for an advertisement. Hence, we will remove \"VistID\", \"Country_Name\" and \"Year\" from the data."
   ]
  },
  {
   "cell_type": "code",
   "execution_count": 12,
   "metadata": {},
   "outputs": [
    {
     "name": "stdout",
     "output_type": "stream",
     "text": [
      "<class 'pandas.core.frame.DataFrame'>\n",
      "RangeIndex: 6657 entries, 0 to 6656\n",
      "Data columns (total 14 columns):\n",
      " #   Column          Non-Null Count  Dtype  \n",
      "---  ------          --------------  -----  \n",
      " 0   VistID          6657 non-null   int64  \n",
      " 1   Time_Spent      6657 non-null   float64\n",
      " 2   Age             6657 non-null   int64  \n",
      " 3   Avg_Income      6657 non-null   float64\n",
      " 4   Internet_Usage  6657 non-null   float64\n",
      " 5   Ad_Topic        6657 non-null   object \n",
      " 6   Country_Name    6657 non-null   object \n",
      " 7   City_code       6657 non-null   object \n",
      " 8   Male            6657 non-null   object \n",
      " 9   Time_Period     6657 non-null   object \n",
      " 10  Weekday         6657 non-null   object \n",
      " 11  Month           6657 non-null   object \n",
      " 12  Year            6657 non-null   int64  \n",
      " 13  Clicked         6657 non-null   int64  \n",
      "dtypes: float64(3), int64(4), object(7)\n",
      "memory usage: 728.2+ KB\n"
     ]
    }
   ],
   "source": [
    "data.info()"
   ]
  },
  {
   "cell_type": "code",
   "execution_count": 17,
   "metadata": {},
   "outputs": [
    {
     "data": {
      "text/html": [
       "<div>\n",
       "<style scoped>\n",
       "    .dataframe tbody tr th:only-of-type {\n",
       "        vertical-align: middle;\n",
       "    }\n",
       "\n",
       "    .dataframe tbody tr th {\n",
       "        vertical-align: top;\n",
       "    }\n",
       "\n",
       "    .dataframe thead th {\n",
       "        text-align: right;\n",
       "    }\n",
       "</style>\n",
       "<table border=\"1\" class=\"dataframe\">\n",
       "  <thead>\n",
       "    <tr style=\"text-align: right;\">\n",
       "      <th></th>\n",
       "      <th>VistID</th>\n",
       "      <th>Time_Spent</th>\n",
       "      <th>Age</th>\n",
       "      <th>Avg_Income</th>\n",
       "      <th>Internet_Usage</th>\n",
       "      <th>Ad_Topic</th>\n",
       "      <th>Country_Name</th>\n",
       "      <th>City_code</th>\n",
       "      <th>Male</th>\n",
       "      <th>Time_Period</th>\n",
       "      <th>Weekday</th>\n",
       "      <th>Month</th>\n",
       "      <th>Year</th>\n",
       "      <th>Clicked</th>\n",
       "    </tr>\n",
       "  </thead>\n",
       "  <tbody>\n",
       "    <tr>\n",
       "      <th>count</th>\n",
       "      <td>6.657000e+03</td>\n",
       "      <td>6657.000000</td>\n",
       "      <td>6657.000000</td>\n",
       "      <td>6657.000000</td>\n",
       "      <td>6657.000000</td>\n",
       "      <td>6657</td>\n",
       "      <td>6657</td>\n",
       "      <td>6657</td>\n",
       "      <td>6657</td>\n",
       "      <td>6657</td>\n",
       "      <td>6657</td>\n",
       "      <td>6657</td>\n",
       "      <td>6657.0</td>\n",
       "      <td>6657.000000</td>\n",
       "    </tr>\n",
       "    <tr>\n",
       "      <th>unique</th>\n",
       "      <td>NaN</td>\n",
       "      <td>NaN</td>\n",
       "      <td>NaN</td>\n",
       "      <td>NaN</td>\n",
       "      <td>NaN</td>\n",
       "      <td>30</td>\n",
       "      <td>237</td>\n",
       "      <td>9</td>\n",
       "      <td>2</td>\n",
       "      <td>6</td>\n",
       "      <td>7</td>\n",
       "      <td>7</td>\n",
       "      <td>NaN</td>\n",
       "      <td>NaN</td>\n",
       "    </tr>\n",
       "    <tr>\n",
       "      <th>top</th>\n",
       "      <td>NaN</td>\n",
       "      <td>NaN</td>\n",
       "      <td>NaN</td>\n",
       "      <td>NaN</td>\n",
       "      <td>NaN</td>\n",
       "      <td>product_22</td>\n",
       "      <td>Canada</td>\n",
       "      <td>City_1</td>\n",
       "      <td>No</td>\n",
       "      <td>Evening</td>\n",
       "      <td>Friday</td>\n",
       "      <td>January</td>\n",
       "      <td>NaN</td>\n",
       "      <td>NaN</td>\n",
       "    </tr>\n",
       "    <tr>\n",
       "      <th>freq</th>\n",
       "      <td>NaN</td>\n",
       "      <td>NaN</td>\n",
       "      <td>NaN</td>\n",
       "      <td>NaN</td>\n",
       "      <td>NaN</td>\n",
       "      <td>266</td>\n",
       "      <td>46</td>\n",
       "      <td>2559</td>\n",
       "      <td>3571</td>\n",
       "      <td>1266</td>\n",
       "      <td>986</td>\n",
       "      <td>988</td>\n",
       "      <td>NaN</td>\n",
       "      <td>NaN</td>\n",
       "    </tr>\n",
       "    <tr>\n",
       "      <th>mean</th>\n",
       "      <td>5.542115e+06</td>\n",
       "      <td>66.849548</td>\n",
       "      <td>37.258825</td>\n",
       "      <td>55930.486743</td>\n",
       "      <td>184.947684</td>\n",
       "      <td>NaN</td>\n",
       "      <td>NaN</td>\n",
       "      <td>NaN</td>\n",
       "      <td>NaN</td>\n",
       "      <td>NaN</td>\n",
       "      <td>NaN</td>\n",
       "      <td>NaN</td>\n",
       "      <td>2020.0</td>\n",
       "      <td>0.456362</td>\n",
       "    </tr>\n",
       "    <tr>\n",
       "      <th>std</th>\n",
       "      <td>2.596284e+06</td>\n",
       "      <td>15.509672</td>\n",
       "      <td>10.995458</td>\n",
       "      <td>13110.339257</td>\n",
       "      <td>43.189896</td>\n",
       "      <td>NaN</td>\n",
       "      <td>NaN</td>\n",
       "      <td>NaN</td>\n",
       "      <td>NaN</td>\n",
       "      <td>NaN</td>\n",
       "      <td>NaN</td>\n",
       "      <td>NaN</td>\n",
       "      <td>0.0</td>\n",
       "      <td>0.498129</td>\n",
       "    </tr>\n",
       "    <tr>\n",
       "      <th>min</th>\n",
       "      <td>1.000187e+06</td>\n",
       "      <td>32.600000</td>\n",
       "      <td>19.000000</td>\n",
       "      <td>13996.500000</td>\n",
       "      <td>104.780000</td>\n",
       "      <td>NaN</td>\n",
       "      <td>NaN</td>\n",
       "      <td>NaN</td>\n",
       "      <td>NaN</td>\n",
       "      <td>NaN</td>\n",
       "      <td>NaN</td>\n",
       "      <td>NaN</td>\n",
       "      <td>2020.0</td>\n",
       "      <td>0.000000</td>\n",
       "    </tr>\n",
       "    <tr>\n",
       "      <th>25%</th>\n",
       "      <td>3.307428e+06</td>\n",
       "      <td>55.200000</td>\n",
       "      <td>28.000000</td>\n",
       "      <td>48454.000000</td>\n",
       "      <td>145.730000</td>\n",
       "      <td>NaN</td>\n",
       "      <td>NaN</td>\n",
       "      <td>NaN</td>\n",
       "      <td>NaN</td>\n",
       "      <td>NaN</td>\n",
       "      <td>NaN</td>\n",
       "      <td>NaN</td>\n",
       "      <td>2020.0</td>\n",
       "      <td>0.000000</td>\n",
       "    </tr>\n",
       "    <tr>\n",
       "      <th>50%</th>\n",
       "      <td>5.523907e+06</td>\n",
       "      <td>70.660000</td>\n",
       "      <td>36.000000</td>\n",
       "      <td>58183.000000</td>\n",
       "      <td>193.580000</td>\n",
       "      <td>NaN</td>\n",
       "      <td>NaN</td>\n",
       "      <td>NaN</td>\n",
       "      <td>NaN</td>\n",
       "      <td>NaN</td>\n",
       "      <td>NaN</td>\n",
       "      <td>NaN</td>\n",
       "      <td>2020.0</td>\n",
       "      <td>0.000000</td>\n",
       "    </tr>\n",
       "    <tr>\n",
       "      <th>75%</th>\n",
       "      <td>7.823942e+06</td>\n",
       "      <td>79.570000</td>\n",
       "      <td>46.000000</td>\n",
       "      <td>65957.000000</td>\n",
       "      <td>222.260000</td>\n",
       "      <td>NaN</td>\n",
       "      <td>NaN</td>\n",
       "      <td>NaN</td>\n",
       "      <td>NaN</td>\n",
       "      <td>NaN</td>\n",
       "      <td>NaN</td>\n",
       "      <td>NaN</td>\n",
       "      <td>2020.0</td>\n",
       "      <td>1.000000</td>\n",
       "    </tr>\n",
       "    <tr>\n",
       "      <th>max</th>\n",
       "      <td>9.999708e+06</td>\n",
       "      <td>91.430000</td>\n",
       "      <td>61.000000</td>\n",
       "      <td>79484.800000</td>\n",
       "      <td>269.960000</td>\n",
       "      <td>NaN</td>\n",
       "      <td>NaN</td>\n",
       "      <td>NaN</td>\n",
       "      <td>NaN</td>\n",
       "      <td>NaN</td>\n",
       "      <td>NaN</td>\n",
       "      <td>NaN</td>\n",
       "      <td>2020.0</td>\n",
       "      <td>1.000000</td>\n",
       "    </tr>\n",
       "  </tbody>\n",
       "</table>\n",
       "</div>"
      ],
      "text/plain": [
       "              VistID   Time_Spent          Age    Avg_Income  Internet_Usage  \\\n",
       "count   6.657000e+03  6657.000000  6657.000000   6657.000000     6657.000000   \n",
       "unique           NaN          NaN          NaN           NaN             NaN   \n",
       "top              NaN          NaN          NaN           NaN             NaN   \n",
       "freq             NaN          NaN          NaN           NaN             NaN   \n",
       "mean    5.542115e+06    66.849548    37.258825  55930.486743      184.947684   \n",
       "std     2.596284e+06    15.509672    10.995458  13110.339257       43.189896   \n",
       "min     1.000187e+06    32.600000    19.000000  13996.500000      104.780000   \n",
       "25%     3.307428e+06    55.200000    28.000000  48454.000000      145.730000   \n",
       "50%     5.523907e+06    70.660000    36.000000  58183.000000      193.580000   \n",
       "75%     7.823942e+06    79.570000    46.000000  65957.000000      222.260000   \n",
       "max     9.999708e+06    91.430000    61.000000  79484.800000      269.960000   \n",
       "\n",
       "          Ad_Topic Country_Name City_code  Male Time_Period Weekday    Month  \\\n",
       "count         6657         6657      6657  6657        6657    6657     6657   \n",
       "unique          30          237         9     2           6       7        7   \n",
       "top     product_22       Canada    City_1    No     Evening  Friday  January   \n",
       "freq           266           46      2559  3571        1266     986      988   \n",
       "mean           NaN          NaN       NaN   NaN         NaN     NaN      NaN   \n",
       "std            NaN          NaN       NaN   NaN         NaN     NaN      NaN   \n",
       "min            NaN          NaN       NaN   NaN         NaN     NaN      NaN   \n",
       "25%            NaN          NaN       NaN   NaN         NaN     NaN      NaN   \n",
       "50%            NaN          NaN       NaN   NaN         NaN     NaN      NaN   \n",
       "75%            NaN          NaN       NaN   NaN         NaN     NaN      NaN   \n",
       "max            NaN          NaN       NaN   NaN         NaN     NaN      NaN   \n",
       "\n",
       "          Year      Clicked  \n",
       "count   6657.0  6657.000000  \n",
       "unique     NaN          NaN  \n",
       "top        NaN          NaN  \n",
       "freq       NaN          NaN  \n",
       "mean    2020.0     0.456362  \n",
       "std        0.0     0.498129  \n",
       "min     2020.0     0.000000  \n",
       "25%     2020.0     0.000000  \n",
       "50%     2020.0     0.000000  \n",
       "75%     2020.0     1.000000  \n",
       "max     2020.0     1.000000  "
      ]
     },
     "execution_count": 17,
     "metadata": {},
     "output_type": "execute_result"
    }
   ],
   "source": [
    "data.describe(include='all')"
   ]
  },
  {
   "cell_type": "code",
   "execution_count": 14,
   "metadata": {},
   "outputs": [
    {
     "data": {
      "text/plain": [
       "VistID            6657\n",
       "Time_Spent         900\n",
       "Age                 43\n",
       "Avg_Income        1487\n",
       "Internet_Usage     966\n",
       "Ad_Topic            30\n",
       "Country_Name       237\n",
       "City_code            9\n",
       "Male                 2\n",
       "Time_Period          6\n",
       "Weekday              7\n",
       "Month                7\n",
       "Year                 1\n",
       "Clicked              2\n",
       "dtype: int64"
      ]
     },
     "execution_count": 14,
     "metadata": {},
     "output_type": "execute_result"
    }
   ],
   "source": [
    "data.nunique()"
   ]
  },
  {
   "cell_type": "code",
   "execution_count": null,
   "metadata": {},
   "outputs": [],
   "source": [
    "# Observing the summarized information of data\n",
    "# Data types, Missing values based on number of non-null values Vs total rows etc.\n",
    "# Remove those variables from data which have too many missing values (Missing Values > 30%)\n",
    "# Remove Qualitative variables which cannot be used in Machine Learning"
   ]
  },
  {
   "cell_type": "markdown",
   "metadata": {},
   "source": [
    "# Basic Data Exploration Results\n",
    "### Based on the basic exploration above, you can now create a simple report of the data, noting down your observations regaring each column. Hence, creating a initial roadmap for further analysis.\n",
    "\n",
    "    The selected columns in this step are not final, further study will be done and then a final list will be created\n",
    "\n",
    "    VistID: Qualitative. Rejected. This column does not affect the ad click\n",
    "    Time_Spent: Continuous. Selected.\n",
    "    Age: Continuous. Selected.\n",
    "    Area_Income: Continuous. Selected.\n",
    "    Internet_Usage: Continuous. Selected.\n",
    "    Ad_Topic: Categorical. Selected.\n",
    "    Country_Name: Qualitative. Rejected. This column has very high cardinality\n",
    "    City_Code: Categorical. Selected.\n",
    "    Male: Categorical. Selected.\n",
    "    Time_Period: Categorical. Selected.\n",
    "    Weekday: Categorical. Selected.\n",
    "    Month: Categorical. Selected.\n",
    "    Year: Qualitative. Rejected. This column does not affect the ad click.\n",
    "    Clicked: Categorical. Selected. This is the Target Variable!"
   ]
  },
  {
   "cell_type": "code",
   "execution_count": null,
   "metadata": {},
   "outputs": [],
   "source": [
    "#remove unuseful data\n",
    "\n",
    "colToRemove = ['VistID','Country_Name','Year']\n",
    "data = data.drop(colToRemove,axis=1)\n",
    "data.head()"
   ]
  },
  {
   "cell_type": "markdown",
   "metadata": {},
   "source": [
    "# Visual Exploratory Data Analysis\n",
    "    Categorical variables: Bar plot\n",
    "    Continuous variables: Histogram"
   ]
  },
  {
   "cell_type": "markdown",
   "metadata": {},
   "source": [
    "Categorical Predictors: \"Ad_Topic\", \"City_code\", \"Male\" ,\"Time_Period\", \"Weekday\", \"Month\""
   ]
  },
  {
   "cell_type": "code",
   "execution_count": 19,
   "metadata": {},
   "outputs": [],
   "source": [
    "def PlotBarCharts(inpData, colsToPlot):\n",
    "    %matplotlib inline\n",
    "    \n",
    "    import matplotlib.pyplot as plt\n",
    "    \n",
    "    # Generating multiple subplots\n",
    "    fig, subPlot=plt.subplots(nrows=1, ncols=len(colsToPlot), figsize=(40,6\n",
    "                                                                      ))\n",
    "    fig.suptitle('Bar charts of: '+ str(colsToPlot))\n",
    "\n",
    "    for colName, plotNumber in zip(colsToPlot, range(len(colsToPlot))):\n",
    "        inpData.groupby(colName).size().plot(kind='bar',ax=subPlot[plotNumber])\n",
    "\n",
    "#####################################################################\n"
   ]
  },
  {
   "cell_type": "code",
   "execution_count": 20,
   "metadata": {},
   "outputs": [
    {
     "data": {
      "image/png": "[encoded data removed]",
      "text/plain": [
       "<Figure size 2880x432 with 6 Axes>"
      ]
     },
     "metadata": {
      "needs_background": "light"
     },
     "output_type": "display_data"
    }
   ],
   "source": [
    "# Calling the function\n",
    "PlotBarCharts(inpData=data, colsToPlot=[\"Ad_Topic\",\"City_code\", \"Male\",\n",
    "                                               \"Time_Period\", \"Weekday\",\"Month\"])"
   ]
  },
  {
   "cell_type": "markdown",
   "metadata": {},
   "source": [
    "Ideal bar chart looks like the chart of \"Weekday\" and \"Month\" column\n",
    "Selected Categorical Variables: All the categorical variables are selected for further analysis.\n",
    "\n",
    "\"Ad_Topic\",\"City_code\", \"Male\", \"Time_Period\", \"Weekday\",\"Month\""
   ]
  },
  {
   "cell_type": "markdown",
   "metadata": {},
   "source": [
    "# Visualize distribution of all the Continuous Predictor variables in the data using histograms"
   ]
  },
  {
   "cell_type": "code",
   "execution_count": 21,
   "metadata": {},
   "outputs": [
    {
     "data": {
      "text/plain": [
       "array([[<AxesSubplot:title={'center':'Time_Spent'}>,\n",
       "        <AxesSubplot:title={'center':'Age'}>],\n",
       "       [<AxesSubplot:title={'center':'Avg_Income'}>,\n",
       "        <AxesSubplot:title={'center':'Internet_Usage'}>]], dtype=object)"
      ]
     },
     "execution_count": 21,
     "metadata": {},
     "output_type": "execute_result"
    },
    {
     "data": {
      "image/png": "[encoded data removed]",
      "text/plain": [
       "<Figure size 1296x720 with 4 Axes>"
      ]
     },
     "metadata": {
      "needs_background": "light"
     },
     "output_type": "display_data"
    }
   ],
   "source": [
    "#Plotting histograms of multiple columns together\n",
    "data.hist([\"Time_Spent\", \"Age\", \"Avg_Income\", \"Internet_Usage\"], figsize=(18,10))"
   ]
  },
  {
   "cell_type": "markdown",
   "metadata": {},
   "source": [
    "data distribution for a single continuous variable.\n",
    "The ideal outcome for histogram is a bell curve or slightly skewed bell curve. If there is too much skewness, then outlier treatment should be done and the column should be re-examined, if that also does not solve the problem then only reject the column.\n"
   ]
  },
  {
   "cell_type": "markdown",
   "metadata": {},
   "source": [
    "Selected Continuous Variables:\n",
    "\n",
    "Time_Spent : Selected.\n",
    "Age: Selected.\n",
    "Avg_Income: Selected. Slightly negative skewed distribution, acceptable.\n",
    "Internet_Usage: Selected."
   ]
  },
  {
   "cell_type": "markdown",
   "metadata": {},
   "source": [
    "# Outlier treatment"
   ]
  },
  {
   "cell_type": "markdown",
   "metadata": {},
   "source": [
    "Outlier must be treated one column at a time. As the treatment will be slightly different for each column\n",
    "Outliers bias the training of machine learning models. As the algorithm tries to fit the extreme value, it goes away from majority of the data\n",
    "Option-1: Delete the outlier Records. Only if there are just few rows lost.\n",
    "Option-2: Impute the outlier values with a logical business value"
   ]
  },
  {
   "cell_type": "markdown",
   "metadata": {},
   "source": [
    "# In this data none of the continuous predictors had outliers, hence treatment is not required.\n",
    "\n"
   ]
  },
  {
   "cell_type": "markdown",
   "metadata": {},
   "source": [
    "# Missing values treatment"
   ]
  },
  {
   "cell_type": "markdown",
   "metadata": {},
   "source": [
    "If a column has more than 30% data missing, then missing value treatment cannot be done.column must be rejected because too much information is missing.\n",
    "\n",
    "    Delete the missing value rows if there are only few records\n",
    "    Impute the missing values with MEDIAN value for continuous variables\n",
    "    Impute the missing values with MODE value for categorical variables\n",
    "    Interpolate the values based on nearby values\n",
    "    Interpolate the values based on business logic"
   ]
  },
  {
   "cell_type": "code",
   "execution_count": 22,
   "metadata": {},
   "outputs": [
    {
     "data": {
      "text/plain": [
       "VistID            0\n",
       "Time_Spent        0\n",
       "Age               0\n",
       "Avg_Income        0\n",
       "Internet_Usage    0\n",
       "Ad_Topic          0\n",
       "Country_Name      0\n",
       "City_code         0\n",
       "Male              0\n",
       "Time_Period       0\n",
       "Weekday           0\n",
       "Month             0\n",
       "Year              0\n",
       "Clicked           0\n",
       "dtype: int64"
      ]
     },
     "execution_count": 22,
     "metadata": {},
     "output_type": "execute_result"
    }
   ],
   "source": [
    "#find missing values\n",
    "\n",
    "data.isnull().sum()"
   ]
  },
  {
   "cell_type": "markdown",
   "metadata": {},
   "source": [
    "# none of the columns have any missing values"
   ]
  },
  {
   "cell_type": "markdown",
   "metadata": {},
   "source": [
    "# feature selection"
   ]
  },
  {
   "cell_type": "markdown",
   "metadata": {},
   "source": [
    "finally choose the best columns(Features) which are correlated to the Target variable.\n",
    "correlation values or ANOVA/Chi-Square tests.\n",
    "it is always helpful to visualize the relation between the Target variable and each of the predictors to get a better sense of data.\n",
    "\n"
   ]
  },
  {
   "cell_type": "markdown",
   "metadata": {},
   "source": [
    "# Visual exploration of relationship between variables\n",
    "    Continuous Vs Continuous ---- Scatter Plot\n",
    "    Categorical Vs Continuous---- Box Plot\n",
    "    Categorical Vs Categorical---- Grouped Bar Plots"
   ]
  },
  {
   "cell_type": "markdown",
   "metadata": {},
   "source": [
    "# Statistical measurement of relationship strength between variables\n",
    "    Continuous Vs Continuous ---- Correlation matrix\n",
    "    Categorical Vs Continuous---- ANOVA test\n",
    "    Categorical Vs Categorical--- Chi-Square test"
   ]
  },
  {
   "cell_type": "markdown",
   "metadata": {},
   "source": [
    "# In this case study the Target variable is categorical, hence below two scenarios will be present\n",
    "    1. Categorical Target Variable Vs Continuous Predictor\n",
    "    2. Categorical Target Variable Vs Categorical Predictor\n"
   ]
  },
  {
   "cell_type": "code",
   "execution_count": 23,
   "metadata": {},
   "outputs": [],
   "source": [
    "ContinuousColsList=[\"Time_Spent\", \"Age\", \"Avg_Income\", \"Internet_Usage\"]\n",
    "\n",
    "\n",
    "import matplotlib.pyplot as plt\n",
    "\n"
   ]
  },
  {
   "cell_type": "code",
   "execution_count": 24,
   "metadata": {},
   "outputs": [
    {
     "data": {
      "image/png": "[encoded data removed]",
      "text/plain": [
       "<Figure size 1296x360 with 4 Axes>"
      ]
     },
     "metadata": {
      "needs_background": "light"
     },
     "output_type": "display_data"
    }
   ],
   "source": [
    "fig, PlotCanvas=plt.subplots(nrows=1, ncols=len(ContinuousColsList), figsize=(18,5))\n",
    "\n",
    "for PredictorCol , i in zip(ContinuousColsList,range(len(ContinuousColsList))):\n",
    "    data.boxplot(column=PredictorCol,by='Clicked',figsize=(5,5),vert = True,ax=PlotCanvas[i])\n",
    "    "
   ]
  },
  {
   "cell_type": "markdown",
   "metadata": {},
   "source": [
    "# What should you look for in these box plots?\n",
    "\n",
    "    These plots gives an idea about the data distribution of continuous predictor in the Y-axis for each of the category in the X-Axis.\n",
    "\n",
    "    If the distribution looks similar for each category(Boxes are in the same line), that means the the continuous variable has NO effect on the target variable. Hence, the variables are not correlated to each other.\n",
    "\n",
    "        @ For example, look at the first chart \"Time_Spent\" Vs \"Clicked\". The boxes are NOT in the same line! I can see the people who clicked on ads have lesser Time_Spent as compared to people who did not click, hence I have some logic to learn using ML algorithms. So this column is correlated with the Clicked column.\n",
    "    \n",
    "    The other other three charts also exhibit same characteristics, hence all four continuous predictors are correlated with the target variable.\n",
    "\n",
    "    We confirm this by looking at the results of ANOVA test below"
   ]
  },
  {
   "cell_type": "markdown",
   "metadata": {},
   "source": [
    "# Statistical Feature Selection (Categorical Vs Continuous) using ANOVA test\n",
    "\n",
    "    Analysis of variance(ANOVA) is performed to check if there is any relationship between the given continuous and categorical variable\n",
    "\n",
    "    Assumption(H0): There is NO relation between the given variables (i.e. The average(mean) values of the numeric Predictor variable is same for all the groups in the categorical Target variable)\n",
    "    ANOVA Test result: Probability of H0 being true"
   ]
  },
  {
   "cell_type": "code",
   "execution_count": 25,
   "metadata": {},
   "outputs": [],
   "source": [
    "def FunctionAnova(inpData,TargetVariable,ContinuousPredictorList):\n",
    "    \n",
    "    from scipy.stats import f_oneway\n",
    "    SelectedPredictors = []  #emptylistfor final selected pred\n",
    "    \n",
    "    print(\"***** ANOVA RESULT ******\")\n",
    "    \n",
    "    for predictor in ContinuousPredictorList:\n",
    "        CategoryGroupList = inpData.groupby(TargetVariable)[predictor].apply(list)\n",
    "        AnovaResult = f_oneway(*CategoryGroupList)\n",
    "        \n",
    "        #if anova p value is <0.5 tht means we reject H0\n",
    "        \n",
    "        if (AnovaResult[1]<0.05):\n",
    "            print(predictor,'is correlated with ',TargetVariable,'|P-Values:',AnovaResult[1])\n",
    "            SelectedPredictors.append(predictor)\n",
    "        else:\n",
    "            print(predictor, 'is NOT correlated with', TargetVariable, '| P-Value:', AnovaResults[1])\n",
    "    \n",
    "    return(SelectedPredictors)\n",
    "            \n",
    "        "
   ]
  },
  {
   "cell_type": "code",
   "execution_count": 26,
   "metadata": {},
   "outputs": [
    {
     "name": "stdout",
     "output_type": "stream",
     "text": [
      "***** ANOVA RESULT ******\n",
      "Time_Spent is correlated with  Clicked |P-Values: 0.0\n",
      "Age is correlated with  Clicked |P-Values: 6.40789044460054e-91\n",
      "Avg_Income is correlated with  Clicked |P-Values: 0.0\n",
      "Internet_Usage is correlated with  Clicked |P-Values: 0.0\n"
     ]
    },
    {
     "data": {
      "text/plain": [
       "['Time_Spent', 'Age', 'Avg_Income', 'Internet_Usage']"
      ]
     },
     "execution_count": 26,
     "metadata": {},
     "output_type": "execute_result"
    }
   ],
   "source": [
    "ContinuousVariables=[\"Time_Spent\", \"Age\", \"Avg_Income\", \"Internet_Usage\"]\n",
    "FunctionAnova(inpData=data, TargetVariable='Clicked', ContinuousPredictorList=ContinuousVariables)"
   ]
  },
  {
   "cell_type": "markdown",
   "metadata": {},
   "source": [
    "# All Four columns are correlated with Clicked (Target Variable)."
   ]
  },
  {
   "cell_type": "markdown",
   "metadata": {},
   "source": [
    "# Relationship exploration: Categorical Vs Categorical -- Grouped Bar Charts\n",
    "    When the target variable is Categorical and the predictor is also Categorical then we explore the correlation between them visually using barplots and statistically using Chi-square test"
   ]
  },
  {
   "cell_type": "code",
   "execution_count": 27,
   "metadata": {},
   "outputs": [
    {
     "data": {
      "text/html": [
       "<div>\n",
       "<style scoped>\n",
       "    .dataframe tbody tr th:only-of-type {\n",
       "        vertical-align: middle;\n",
       "    }\n",
       "\n",
       "    .dataframe tbody tr th {\n",
       "        vertical-align: top;\n",
       "    }\n",
       "\n",
       "    .dataframe thead th {\n",
       "        text-align: right;\n",
       "    }\n",
       "</style>\n",
       "<table border=\"1\" class=\"dataframe\">\n",
       "  <thead>\n",
       "    <tr style=\"text-align: right;\">\n",
       "      <th>Clicked</th>\n",
       "      <th>0</th>\n",
       "      <th>1</th>\n",
       "    </tr>\n",
       "    <tr>\n",
       "      <th>Male</th>\n",
       "      <th></th>\n",
       "      <th></th>\n",
       "    </tr>\n",
       "  </thead>\n",
       "  <tbody>\n",
       "    <tr>\n",
       "      <th>No</th>\n",
       "      <td>1896</td>\n",
       "      <td>1675</td>\n",
       "    </tr>\n",
       "    <tr>\n",
       "      <th>Yes</th>\n",
       "      <td>1723</td>\n",
       "      <td>1363</td>\n",
       "    </tr>\n",
       "  </tbody>\n",
       "</table>\n",
       "</div>"
      ],
      "text/plain": [
       "Clicked     0     1\n",
       "Male               \n",
       "No       1896  1675\n",
       "Yes      1723  1363"
      ]
     },
     "execution_count": 27,
     "metadata": {},
     "output_type": "execute_result"
    }
   ],
   "source": [
    "CrossTabResult=pd.crosstab(index=data['Male'], columns=data['Clicked'])\n",
    "CrossTabResult"
   ]
  },
  {
   "cell_type": "code",
   "execution_count": 28,
   "metadata": {},
   "outputs": [
    {
     "data": {
      "image/png": "[encoded data removed]",
      "text/plain": [
       "<Figure size 1080x4320 with 6 Axes>"
      ]
     },
     "metadata": {
      "needs_background": "light"
     },
     "output_type": "display_data"
    }
   ],
   "source": [
    "CategoricalColsList=[\"Ad_Topic\",\"City_code\", \"Male\",\n",
    "                     \"Time_Period\", \"Weekday\",\"Month\"]\n",
    "\n",
    "import matplotlib.pyplot as plt\n",
    "fig, PlotCanvas=plt.subplots(nrows=len(CategoricalColsList), ncols=1, figsize=(15,60))\n",
    "\n",
    "# Creating Grouped bar plots for each categorical predictor against the Target Variable \"Clicked\"\n",
    "for CategoricalCol , i in zip(CategoricalColsList, range(len(CategoricalColsList))):\n",
    "    CrossTabResult=pd.crosstab(index=data[CategoricalCol], columns=data['Clicked'])\n",
    "    CrossTabResult.plot.bar(color=['red','blue'], ax=PlotCanvas[i])"
   ]
  },
  {
   "cell_type": "markdown",
   "metadata": {},
   "source": [
    "# What to look for in these grouped bar charts?\n",
    "\n",
    "    These grouped bar charts show the frequency in the Y-Axis and the category in the X-Axis. If the ratio of bars is similar across all categories, then the two columns are not correlated. For example, look at the Month Vs Clicked plot. The Clicked vs Not-Clicked ratio for each month is similar, it means Month does not affect the Ad Click!. Hence, these two variables are not correlated.\n",
    "\n",
    "    On the other hand, look at the Time_Period vs Clicked plot. The number of Clicks are very high in the Early Morning! It means Time_Period affects the Ad Click! Hence, two columns are correlated with each other.\n",
    "\n",
    "    We confirm this analysis in below section by using Chi-Square Tests."
   ]
  },
  {
   "cell_type": "markdown",
   "metadata": {},
   "source": [
    "# Statistical Feature Selection (Categorical Vs Categorical) using Chi-Square Test\n",
    "    Chi-Square test is conducted to check the correlation between two categorical variables\n",
    "\n",
    "    Assumption(H0): The two columns are NOT related to each other\n",
    "    Result of Chi-Sq Test: The Probability of H0 being True"
   ]
  },
  {
   "cell_type": "code",
   "execution_count": 29,
   "metadata": {},
   "outputs": [],
   "source": [
    "def FunctionChisq(inpData, TargetVariable, CategoricalVariablesList):\n",
    "    from scipy.stats import chi2_contingency\n",
    "    \n",
    "    # Creating an empty list of final selected predictors\n",
    "    SelectedPredictors=[]\n",
    "\n",
    "    for predictor in CategoricalVariablesList:\n",
    "        CrossTabResult=pd.crosstab(index=inpData[TargetVariable], columns=inpData[predictor])\n",
    "        ChiSqResult = chi2_contingency(CrossTabResult)\n",
    "        \n",
    "        # If the ChiSq P-Value is <0.05, that means we reject H0\n",
    "        if (ChiSqResult[1] < 0.05):\n",
    "            print(predictor, 'is correlated with', TargetVariable, '| P-Value:', ChiSqResult[1])\n",
    "            SelectedPredictors.append(predictor)\n",
    "        else:\n",
    "            print(predictor, 'is NOT correlated with', TargetVariable, '| P-Value:', ChiSqResult[1])        \n",
    "            \n",
    "    return(SelectedPredictors)"
   ]
  },
  {
   "cell_type": "code",
   "execution_count": 30,
   "metadata": {},
   "outputs": [
    {
     "name": "stdout",
     "output_type": "stream",
     "text": [
      "Ad_Topic is correlated with Clicked | P-Value: 1.2676573604736464e-24\n",
      "City_code is correlated with Clicked | P-Value: 2.6667953391697526e-88\n",
      "Male is correlated with Clicked | P-Value: 0.02695171301745074\n",
      "Time_Period is correlated with Clicked | P-Value: 4.465745015735695e-47\n",
      "Weekday is NOT correlated with Clicked | P-Value: 0.7226317326250824\n",
      "Month is NOT correlated with Clicked | P-Value: 0.4229049097263303\n"
     ]
    },
    {
     "data": {
      "text/plain": [
       "['Ad_Topic', 'City_code', 'Male', 'Time_Period']"
      ]
     },
     "execution_count": 30,
     "metadata": {},
     "output_type": "execute_result"
    }
   ],
   "source": [
    "CategoricalVariables=[\"Ad_Topic\",\"City_code\", \"Male\",\n",
    "                     \"Time_Period\", \"Weekday\",\"Month\"]\n",
    "\n",
    "# Calling the function\n",
    "FunctionChisq(inpData=data, \n",
    "              TargetVariable='Clicked',\n",
    "              CategoricalVariablesList= CategoricalVariables)"
   ]
  },
  {
   "cell_type": "markdown",
   "metadata": {},
   "source": [
    "# Selecting final predictors for Machine Learning\n",
    "    Based on the above tests, selecting the final columns for machine learning"
   ]
  },
  {
   "cell_type": "code",
   "execution_count": 31,
   "metadata": {},
   "outputs": [
    {
     "data": {
      "text/html": [
       "<div>\n",
       "<style scoped>\n",
       "    .dataframe tbody tr th:only-of-type {\n",
       "        vertical-align: middle;\n",
       "    }\n",
       "\n",
       "    .dataframe tbody tr th {\n",
       "        vertical-align: top;\n",
       "    }\n",
       "\n",
       "    .dataframe thead th {\n",
       "        text-align: right;\n",
       "    }\n",
       "</style>\n",
       "<table border=\"1\" class=\"dataframe\">\n",
       "  <thead>\n",
       "    <tr style=\"text-align: right;\">\n",
       "      <th></th>\n",
       "      <th>Time_Spent</th>\n",
       "      <th>Age</th>\n",
       "      <th>Avg_Income</th>\n",
       "      <th>Internet_Usage</th>\n",
       "      <th>Ad_Topic</th>\n",
       "      <th>City_code</th>\n",
       "      <th>Male</th>\n",
       "      <th>Time_Period</th>\n",
       "    </tr>\n",
       "  </thead>\n",
       "  <tbody>\n",
       "    <tr>\n",
       "      <th>0</th>\n",
       "      <td>87.97</td>\n",
       "      <td>43</td>\n",
       "      <td>55901.12</td>\n",
       "      <td>185.46</td>\n",
       "      <td>product_11</td>\n",
       "      <td>City_5</td>\n",
       "      <td>No</td>\n",
       "      <td>Mid-Night</td>\n",
       "    </tr>\n",
       "    <tr>\n",
       "      <th>1</th>\n",
       "      <td>51.63</td>\n",
       "      <td>50</td>\n",
       "      <td>39132.00</td>\n",
       "      <td>176.73</td>\n",
       "      <td>product_8</td>\n",
       "      <td>City_1</td>\n",
       "      <td>No</td>\n",
       "      <td>Evening</td>\n",
       "    </tr>\n",
       "    <tr>\n",
       "      <th>2</th>\n",
       "      <td>82.37</td>\n",
       "      <td>38</td>\n",
       "      <td>57032.36</td>\n",
       "      <td>210.60</td>\n",
       "      <td>product_6</td>\n",
       "      <td>City_2</td>\n",
       "      <td>No</td>\n",
       "      <td>Morning</td>\n",
       "    </tr>\n",
       "    <tr>\n",
       "      <th>3</th>\n",
       "      <td>62.06</td>\n",
       "      <td>45</td>\n",
       "      <td>48868.00</td>\n",
       "      <td>190.05</td>\n",
       "      <td>product_19</td>\n",
       "      <td>City_3</td>\n",
       "      <td>Yes</td>\n",
       "      <td>Morning</td>\n",
       "    </tr>\n",
       "    <tr>\n",
       "      <th>4</th>\n",
       "      <td>77.66</td>\n",
       "      <td>31</td>\n",
       "      <td>61608.23</td>\n",
       "      <td>204.86</td>\n",
       "      <td>product_11</td>\n",
       "      <td>City_2</td>\n",
       "      <td>No</td>\n",
       "      <td>Noon</td>\n",
       "    </tr>\n",
       "  </tbody>\n",
       "</table>\n",
       "</div>"
      ],
      "text/plain": [
       "   Time_Spent  Age  Avg_Income  Internet_Usage    Ad_Topic City_code Male  \\\n",
       "0       87.97   43    55901.12          185.46  product_11    City_5   No   \n",
       "1       51.63   50    39132.00          176.73   product_8    City_1   No   \n",
       "2       82.37   38    57032.36          210.60   product_6    City_2   No   \n",
       "3       62.06   45    48868.00          190.05  product_19    City_3  Yes   \n",
       "4       77.66   31    61608.23          204.86  product_11    City_2   No   \n",
       "\n",
       "  Time_Period  \n",
       "0   Mid-Night  \n",
       "1     Evening  \n",
       "2     Morning  \n",
       "3     Morning  \n",
       "4        Noon  "
      ]
     },
     "execution_count": 31,
     "metadata": {},
     "output_type": "execute_result"
    }
   ],
   "source": [
    "SelectedColumns=[\"Time_Spent\", \"Age\", \"Avg_Income\", \"Internet_Usage\",\n",
    "                \"Ad_Topic\", \"City_code\", \"Male\", \"Time_Period\"]\n",
    "\n",
    "# Selecting final columns\n",
    "DataForML=data[SelectedColumns]\n",
    "DataForML.head()\n"
   ]
  },
  {
   "cell_type": "code",
   "execution_count": 32,
   "metadata": {},
   "outputs": [],
   "source": [
    "DataForML.to_pickle('DataForML.pkl')\n"
   ]
  },
  {
   "cell_type": "markdown",
   "metadata": {},
   "source": [
    "# Data Pre-processing for Machine Learning\n",
    "    List of steps performed on predictor variables before data can be used for machine learning\n",
    "\n",
    "    1. Converting each Ordinal Categorical columns to numeric\n",
    "    2. Converting Binary nominal Categorical columns to numeric using 1/0 mapping\n",
    "    3. Converting all other nominal categorical columns to numeric using pd.get_dummies()\n",
    "    4. Data Transformation (Optional): Standardization/Normalization/log/sqrt. Important if you are using distance based algorithms like KNN, or Neural Networks"
   ]
  },
  {
   "cell_type": "markdown",
   "metadata": {},
   "source": [
    "# Converting the binary nominal variable to numeric using 1/0 mapping"
   ]
  },
  {
   "cell_type": "code",
   "execution_count": 33,
   "metadata": {},
   "outputs": [
    {
     "data": {
      "text/html": [
       "<div>\n",
       "<style scoped>\n",
       "    .dataframe tbody tr th:only-of-type {\n",
       "        vertical-align: middle;\n",
       "    }\n",
       "\n",
       "    .dataframe tbody tr th {\n",
       "        vertical-align: top;\n",
       "    }\n",
       "\n",
       "    .dataframe thead th {\n",
       "        text-align: right;\n",
       "    }\n",
       "</style>\n",
       "<table border=\"1\" class=\"dataframe\">\n",
       "  <thead>\n",
       "    <tr style=\"text-align: right;\">\n",
       "      <th></th>\n",
       "      <th>Time_Spent</th>\n",
       "      <th>Age</th>\n",
       "      <th>Avg_Income</th>\n",
       "      <th>Internet_Usage</th>\n",
       "      <th>Ad_Topic</th>\n",
       "      <th>City_code</th>\n",
       "      <th>Male</th>\n",
       "      <th>Time_Period</th>\n",
       "    </tr>\n",
       "  </thead>\n",
       "  <tbody>\n",
       "    <tr>\n",
       "      <th>0</th>\n",
       "      <td>87.97</td>\n",
       "      <td>43</td>\n",
       "      <td>55901.12</td>\n",
       "      <td>185.46</td>\n",
       "      <td>product_11</td>\n",
       "      <td>City_5</td>\n",
       "      <td>0</td>\n",
       "      <td>Mid-Night</td>\n",
       "    </tr>\n",
       "    <tr>\n",
       "      <th>1</th>\n",
       "      <td>51.63</td>\n",
       "      <td>50</td>\n",
       "      <td>39132.00</td>\n",
       "      <td>176.73</td>\n",
       "      <td>product_8</td>\n",
       "      <td>City_1</td>\n",
       "      <td>0</td>\n",
       "      <td>Evening</td>\n",
       "    </tr>\n",
       "    <tr>\n",
       "      <th>2</th>\n",
       "      <td>82.37</td>\n",
       "      <td>38</td>\n",
       "      <td>57032.36</td>\n",
       "      <td>210.60</td>\n",
       "      <td>product_6</td>\n",
       "      <td>City_2</td>\n",
       "      <td>0</td>\n",
       "      <td>Morning</td>\n",
       "    </tr>\n",
       "    <tr>\n",
       "      <th>3</th>\n",
       "      <td>62.06</td>\n",
       "      <td>45</td>\n",
       "      <td>48868.00</td>\n",
       "      <td>190.05</td>\n",
       "      <td>product_19</td>\n",
       "      <td>City_3</td>\n",
       "      <td>1</td>\n",
       "      <td>Morning</td>\n",
       "    </tr>\n",
       "    <tr>\n",
       "      <th>4</th>\n",
       "      <td>77.66</td>\n",
       "      <td>31</td>\n",
       "      <td>61608.23</td>\n",
       "      <td>204.86</td>\n",
       "      <td>product_11</td>\n",
       "      <td>City_2</td>\n",
       "      <td>0</td>\n",
       "      <td>Noon</td>\n",
       "    </tr>\n",
       "  </tbody>\n",
       "</table>\n",
       "</div>"
      ],
      "text/plain": [
       "   Time_Spent  Age  Avg_Income  Internet_Usage    Ad_Topic City_code  Male  \\\n",
       "0       87.97   43    55901.12          185.46  product_11    City_5     0   \n",
       "1       51.63   50    39132.00          176.73   product_8    City_1     0   \n",
       "2       82.37   38    57032.36          210.60   product_6    City_2     0   \n",
       "3       62.06   45    48868.00          190.05  product_19    City_3     1   \n",
       "4       77.66   31    61608.23          204.86  product_11    City_2     0   \n",
       "\n",
       "  Time_Period  \n",
       "0   Mid-Night  \n",
       "1     Evening  \n",
       "2     Morning  \n",
       "3     Morning  \n",
       "4        Noon  "
      ]
     },
     "execution_count": 33,
     "metadata": {},
     "output_type": "execute_result"
    }
   ],
   "source": [
    "# Treating the binary nominal variables first\n",
    "DataForML['Male'].replace({'Yes':1, 'No':0}, inplace=True)\n",
    "\n",
    "# Looking at data after nominal treatment\n",
    "DataForML.head()"
   ]
  },
  {
   "cell_type": "markdown",
   "metadata": {},
   "source": [
    "# Converting the nominal variable to numeric using get_dummies()"
   ]
  },
  {
   "cell_type": "code",
   "execution_count": null,
   "metadata": {},
   "outputs": [],
   "source": []
  },
  {
   "cell_type": "code",
   "execution_count": 34,
   "metadata": {},
   "outputs": [
    {
     "data": {
      "text/html": [
       "<div>\n",
       "<style scoped>\n",
       "    .dataframe tbody tr th:only-of-type {\n",
       "        vertical-align: middle;\n",
       "    }\n",
       "\n",
       "    .dataframe tbody tr th {\n",
       "        vertical-align: top;\n",
       "    }\n",
       "\n",
       "    .dataframe thead th {\n",
       "        text-align: right;\n",
       "    }\n",
       "</style>\n",
       "<table border=\"1\" class=\"dataframe\">\n",
       "  <thead>\n",
       "    <tr style=\"text-align: right;\">\n",
       "      <th></th>\n",
       "      <th>Time_Spent</th>\n",
       "      <th>Age</th>\n",
       "      <th>Avg_Income</th>\n",
       "      <th>Internet_Usage</th>\n",
       "      <th>Male</th>\n",
       "      <th>Ad_Topic_product_1</th>\n",
       "      <th>Ad_Topic_product_10</th>\n",
       "      <th>Ad_Topic_product_11</th>\n",
       "      <th>Ad_Topic_product_12</th>\n",
       "      <th>Ad_Topic_product_13</th>\n",
       "      <th>...</th>\n",
       "      <th>City_code_City_7</th>\n",
       "      <th>City_code_City_8</th>\n",
       "      <th>City_code_City_9</th>\n",
       "      <th>Time_Period_Early-Morning</th>\n",
       "      <th>Time_Period_Evening</th>\n",
       "      <th>Time_Period_Mid-Night</th>\n",
       "      <th>Time_Period_Morning</th>\n",
       "      <th>Time_Period_Night</th>\n",
       "      <th>Time_Period_Noon</th>\n",
       "      <th>Clicked</th>\n",
       "    </tr>\n",
       "  </thead>\n",
       "  <tbody>\n",
       "    <tr>\n",
       "      <th>0</th>\n",
       "      <td>87.97</td>\n",
       "      <td>43</td>\n",
       "      <td>55901.12</td>\n",
       "      <td>185.46</td>\n",
       "      <td>0</td>\n",
       "      <td>0</td>\n",
       "      <td>0</td>\n",
       "      <td>1</td>\n",
       "      <td>0</td>\n",
       "      <td>0</td>\n",
       "      <td>...</td>\n",
       "      <td>0</td>\n",
       "      <td>0</td>\n",
       "      <td>0</td>\n",
       "      <td>0</td>\n",
       "      <td>0</td>\n",
       "      <td>1</td>\n",
       "      <td>0</td>\n",
       "      <td>0</td>\n",
       "      <td>0</td>\n",
       "      <td>0</td>\n",
       "    </tr>\n",
       "    <tr>\n",
       "      <th>1</th>\n",
       "      <td>51.63</td>\n",
       "      <td>50</td>\n",
       "      <td>39132.00</td>\n",
       "      <td>176.73</td>\n",
       "      <td>0</td>\n",
       "      <td>0</td>\n",
       "      <td>0</td>\n",
       "      <td>0</td>\n",
       "      <td>0</td>\n",
       "      <td>0</td>\n",
       "      <td>...</td>\n",
       "      <td>0</td>\n",
       "      <td>0</td>\n",
       "      <td>0</td>\n",
       "      <td>0</td>\n",
       "      <td>1</td>\n",
       "      <td>0</td>\n",
       "      <td>0</td>\n",
       "      <td>0</td>\n",
       "      <td>0</td>\n",
       "      <td>1</td>\n",
       "    </tr>\n",
       "    <tr>\n",
       "      <th>2</th>\n",
       "      <td>82.37</td>\n",
       "      <td>38</td>\n",
       "      <td>57032.36</td>\n",
       "      <td>210.60</td>\n",
       "      <td>0</td>\n",
       "      <td>0</td>\n",
       "      <td>0</td>\n",
       "      <td>0</td>\n",
       "      <td>0</td>\n",
       "      <td>0</td>\n",
       "      <td>...</td>\n",
       "      <td>0</td>\n",
       "      <td>0</td>\n",
       "      <td>0</td>\n",
       "      <td>0</td>\n",
       "      <td>0</td>\n",
       "      <td>0</td>\n",
       "      <td>1</td>\n",
       "      <td>0</td>\n",
       "      <td>0</td>\n",
       "      <td>0</td>\n",
       "    </tr>\n",
       "    <tr>\n",
       "      <th>3</th>\n",
       "      <td>62.06</td>\n",
       "      <td>45</td>\n",
       "      <td>48868.00</td>\n",
       "      <td>190.05</td>\n",
       "      <td>1</td>\n",
       "      <td>0</td>\n",
       "      <td>0</td>\n",
       "      <td>0</td>\n",
       "      <td>0</td>\n",
       "      <td>0</td>\n",
       "      <td>...</td>\n",
       "      <td>0</td>\n",
       "      <td>0</td>\n",
       "      <td>0</td>\n",
       "      <td>0</td>\n",
       "      <td>0</td>\n",
       "      <td>0</td>\n",
       "      <td>1</td>\n",
       "      <td>0</td>\n",
       "      <td>0</td>\n",
       "      <td>1</td>\n",
       "    </tr>\n",
       "    <tr>\n",
       "      <th>4</th>\n",
       "      <td>77.66</td>\n",
       "      <td>31</td>\n",
       "      <td>61608.23</td>\n",
       "      <td>204.86</td>\n",
       "      <td>0</td>\n",
       "      <td>0</td>\n",
       "      <td>0</td>\n",
       "      <td>1</td>\n",
       "      <td>0</td>\n",
       "      <td>0</td>\n",
       "      <td>...</td>\n",
       "      <td>0</td>\n",
       "      <td>0</td>\n",
       "      <td>0</td>\n",
       "      <td>0</td>\n",
       "      <td>0</td>\n",
       "      <td>0</td>\n",
       "      <td>0</td>\n",
       "      <td>0</td>\n",
       "      <td>1</td>\n",
       "      <td>0</td>\n",
       "    </tr>\n",
       "  </tbody>\n",
       "</table>\n",
       "<p>5 rows × 51 columns</p>\n",
       "</div>"
      ],
      "text/plain": [
       "   Time_Spent  Age  Avg_Income  Internet_Usage  Male  Ad_Topic_product_1  \\\n",
       "0       87.97   43    55901.12          185.46     0                   0   \n",
       "1       51.63   50    39132.00          176.73     0                   0   \n",
       "2       82.37   38    57032.36          210.60     0                   0   \n",
       "3       62.06   45    48868.00          190.05     1                   0   \n",
       "4       77.66   31    61608.23          204.86     0                   0   \n",
       "\n",
       "   Ad_Topic_product_10  Ad_Topic_product_11  Ad_Topic_product_12  \\\n",
       "0                    0                    1                    0   \n",
       "1                    0                    0                    0   \n",
       "2                    0                    0                    0   \n",
       "3                    0                    0                    0   \n",
       "4                    0                    1                    0   \n",
       "\n",
       "   Ad_Topic_product_13  ...  City_code_City_7  City_code_City_8  \\\n",
       "0                    0  ...                 0                 0   \n",
       "1                    0  ...                 0                 0   \n",
       "2                    0  ...                 0                 0   \n",
       "3                    0  ...                 0                 0   \n",
       "4                    0  ...                 0                 0   \n",
       "\n",
       "   City_code_City_9  Time_Period_Early-Morning  Time_Period_Evening  \\\n",
       "0                 0                          0                    0   \n",
       "1                 0                          0                    1   \n",
       "2                 0                          0                    0   \n",
       "3                 0                          0                    0   \n",
       "4                 0                          0                    0   \n",
       "\n",
       "   Time_Period_Mid-Night  Time_Period_Morning  Time_Period_Night  \\\n",
       "0                      1                    0                  0   \n",
       "1                      0                    0                  0   \n",
       "2                      0                    1                  0   \n",
       "3                      0                    1                  0   \n",
       "4                      0                    0                  0   \n",
       "\n",
       "   Time_Period_Noon  Clicked  \n",
       "0                 0        0  \n",
       "1                 0        1  \n",
       "2                 0        0  \n",
       "3                 0        1  \n",
       "4                 1        0  \n",
       "\n",
       "[5 rows x 51 columns]"
      ]
     },
     "execution_count": 34,
     "metadata": {},
     "output_type": "execute_result"
    }
   ],
   "source": [
    "DataForML_Numeric = pd.get_dummies(DataForML)\n",
    "DataForML_Numeric['Clicked'] = data['Clicked']\n",
    "DataForML_Numeric.head()"
   ]
  },
  {
   "cell_type": "markdown",
   "metadata": {},
   "source": [
    "# Machine Learning: Splitting the data into Training and Testing sample"
   ]
  },
  {
   "cell_type": "code",
   "execution_count": 35,
   "metadata": {},
   "outputs": [
    {
     "data": {
      "text/plain": [
       "Index(['Time_Spent', 'Age', 'Avg_Income', 'Internet_Usage', 'Male',\n",
       "       'Ad_Topic_product_1', 'Ad_Topic_product_10', 'Ad_Topic_product_11',\n",
       "       'Ad_Topic_product_12', 'Ad_Topic_product_13', 'Ad_Topic_product_14',\n",
       "       'Ad_Topic_product_15', 'Ad_Topic_product_16', 'Ad_Topic_product_17',\n",
       "       'Ad_Topic_product_18', 'Ad_Topic_product_19', 'Ad_Topic_product_2',\n",
       "       'Ad_Topic_product_20', 'Ad_Topic_product_21', 'Ad_Topic_product_22',\n",
       "       'Ad_Topic_product_23', 'Ad_Topic_product_24', 'Ad_Topic_product_25',\n",
       "       'Ad_Topic_product_26', 'Ad_Topic_product_27', 'Ad_Topic_product_28',\n",
       "       'Ad_Topic_product_29', 'Ad_Topic_product_3', 'Ad_Topic_product_30',\n",
       "       'Ad_Topic_product_4', 'Ad_Topic_product_5', 'Ad_Topic_product_6',\n",
       "       'Ad_Topic_product_7', 'Ad_Topic_product_8', 'Ad_Topic_product_9',\n",
       "       'City_code_City_1', 'City_code_City_2', 'City_code_City_3',\n",
       "       'City_code_City_4', 'City_code_City_5', 'City_code_City_6',\n",
       "       'City_code_City_7', 'City_code_City_8', 'City_code_City_9',\n",
       "       'Time_Period_Early-Morning', 'Time_Period_Evening',\n",
       "       'Time_Period_Mid-Night', 'Time_Period_Morning', 'Time_Period_Night',\n",
       "       'Time_Period_Noon', 'Clicked'],\n",
       "      dtype='object')"
      ]
     },
     "execution_count": 35,
     "metadata": {},
     "output_type": "execute_result"
    }
   ],
   "source": [
    "DataForML_Numeric.columns\n"
   ]
  },
  {
   "cell_type": "code",
   "execution_count": 36,
   "metadata": {},
   "outputs": [],
   "source": [
    "TargetVariable='Clicked'\n",
    "Predictors=['Time_Spent', 'Age', 'Avg_Income', 'Internet_Usage', 'Male',\n",
    "       'Ad_Topic_product_1', 'Ad_Topic_product_10', 'Ad_Topic_product_11',\n",
    "       'Ad_Topic_product_12', 'Ad_Topic_product_13', 'Ad_Topic_product_14',\n",
    "       'Ad_Topic_product_15', 'Ad_Topic_product_16', 'Ad_Topic_product_17',\n",
    "       'Ad_Topic_product_18', 'Ad_Topic_product_19', 'Ad_Topic_product_2',\n",
    "       'Ad_Topic_product_20', 'Ad_Topic_product_21', 'Ad_Topic_product_22',\n",
    "       'Ad_Topic_product_23', 'Ad_Topic_product_24', 'Ad_Topic_product_25',\n",
    "       'Ad_Topic_product_26', 'Ad_Topic_product_27', 'Ad_Topic_product_28',\n",
    "       'Ad_Topic_product_29', 'Ad_Topic_product_3', 'Ad_Topic_product_30',\n",
    "       'Ad_Topic_product_4', 'Ad_Topic_product_5', 'Ad_Topic_product_6',\n",
    "       'Ad_Topic_product_7', 'Ad_Topic_product_8', 'Ad_Topic_product_9',\n",
    "       'City_code_City_1', 'City_code_City_2', 'City_code_City_3',\n",
    "       'City_code_City_4', 'City_code_City_5', 'City_code_City_6',\n",
    "       'City_code_City_7', 'City_code_City_8', 'City_code_City_9',\n",
    "       'Time_Period_Early-Morning', 'Time_Period_Evening',\n",
    "       'Time_Period_Mid-Night', 'Time_Period_Morning', 'Time_Period_Night',\n",
    "       'Time_Period_Noon']\n",
    "\n",
    "X=DataForML_Numeric[Predictors].values\n",
    "y=DataForML_Numeric[TargetVariable].values"
   ]
  },
  {
   "cell_type": "code",
   "execution_count": 37,
   "metadata": {},
   "outputs": [],
   "source": [
    "# Split the data into training and testing set\n",
    "from sklearn.model_selection import train_test_split\n",
    "X_train, X_test, y_train, y_test = train_test_split(X, y, test_size=0.3, random_state=428)\n"
   ]
  },
  {
   "cell_type": "markdown",
   "metadata": {},
   "source": [
    "# Standardization/Normalization of data"
   ]
  },
  {
   "cell_type": "code",
   "execution_count": 38,
   "metadata": {},
   "outputs": [],
   "source": [
    "### Sandardization of data ###\n",
    "from sklearn.preprocessing import StandardScaler, MinMaxScaler\n",
    "# Choose either standardization or Normalization\n",
    "# On this data Min Max Normalization produced better results\n",
    "\n",
    "# Choose between standardization and MinMAx normalization\n",
    "#PredictorScaler=StandardScaler()\n",
    "PredictorScaler=MinMaxScaler()\n",
    "\n",
    "# Storing the fit object for later reference\n",
    "PredictorScalerFit=PredictorScaler.fit(X)\n",
    "\n",
    "# Generating the standardized values of X\n",
    "X=PredictorScalerFit.transform(X)\n",
    "\n",
    "# Split the data into training and testing set\n",
    "from sklearn.model_selection import train_test_split\n",
    "X_train, X_test, y_train, y_test = train_test_split(X, y, test_size=0.3, random_state=42)\n"
   ]
  },
  {
   "cell_type": "code",
   "execution_count": 39,
   "metadata": {},
   "outputs": [
    {
     "name": "stdout",
     "output_type": "stream",
     "text": [
      "(4659, 50)\n",
      "(4659,)\n",
      "(1998, 50)\n",
      "(1998,)\n"
     ]
    }
   ],
   "source": [
    "print(X_train.shape)\n",
    "print(y_train.shape)\n",
    "print(X_test.shape)\n",
    "print(y_test.shape)"
   ]
  },
  {
   "cell_type": "markdown",
   "metadata": {},
   "source": [
    "# Build A model "
   ]
  },
  {
   "cell_type": "markdown",
   "metadata": {},
   "source": [
    "# 1. Logistic Regression\n"
   ]
  },
  {
   "cell_type": "code",
   "execution_count": 40,
   "metadata": {},
   "outputs": [
    {
     "name": "stdout",
     "output_type": "stream",
     "text": [
      "LogisticRegression(C=1, solver='newton-cg')\n"
     ]
    }
   ],
   "source": [
    "from sklearn.linear_model import LogisticRegression\n",
    "# choose parameter Penalty='l1' or C=1\n",
    "# choose different values for solver 'newton-cg', 'lbfgs', 'liblinear', 'sag', 'saga'\n",
    "clf = LogisticRegression(C=1,penalty='l2', solver='newton-cg')\n",
    "print(clf)\n",
    "LOG = clf.fit(X_train,y_train)\n",
    "prediction = LOG.predict(X_test)\n"
   ]
  },
  {
   "cell_type": "code",
   "execution_count": 41,
   "metadata": {},
   "outputs": [
    {
     "name": "stdout",
     "output_type": "stream",
     "text": [
      "              precision    recall  f1-score   support\n",
      "\n",
      "           0       0.92      0.97      0.94      1080\n",
      "           1       0.96      0.90      0.93       918\n",
      "\n",
      "    accuracy                           0.93      1998\n",
      "   macro avg       0.94      0.93      0.93      1998\n",
      "weighted avg       0.94      0.93      0.93      1998\n",
      "\n",
      "[[1043   37]\n",
      " [  94  824]]\n"
     ]
    }
   ],
   "source": [
    "# Measuring accuracy on Testing Data\n",
    "from sklearn import metrics\n",
    "print(metrics.classification_report(y_test, prediction))\n",
    "print(metrics.confusion_matrix(y_test, prediction))"
   ]
  },
  {
   "cell_type": "code",
   "execution_count": 42,
   "metadata": {},
   "outputs": [
    {
     "name": "stdout",
     "output_type": "stream",
     "text": [
      "Accuracy of the model on Testing Sample Data: 0.93\n"
     ]
    }
   ],
   "source": [
    "#Overall Accuracy of the model\n",
    "F1_Score=metrics.f1_score(y_test, prediction, average='weighted')\n",
    "print('Accuracy of the model on Testing Sample Data:', round(F1_Score,2))"
   ]
  },
  {
   "cell_type": "code",
   "execution_count": 43,
   "metadata": {},
   "outputs": [
    {
     "name": "stdout",
     "output_type": "stream",
     "text": [
      "\n",
      "Accuracy values for 10-fold Cross Validation:\n",
      " [0.93693694 0.88773764 0.92472202 0.93975226 0.92611277 0.94273948\n",
      " 0.94273948 0.94280626 0.93519986 0.93517856]\n",
      "\n",
      "Final Average Accuracy of the model: 0.93\n"
     ]
    }
   ],
   "source": [
    "#Cross - validation\n",
    "from sklearn.model_selection import cross_val_score\n",
    "Accuracy_Values=cross_val_score(LOG, X , y, cv=10, scoring='f1_weighted')\n",
    "print('\\nAccuracy values for 10-fold Cross Validation:\\n',Accuracy_Values)\n",
    "print('\\nFinal Average Accuracy of the model:', round(Accuracy_Values.mean(),2))"
   ]
  },
  {
   "cell_type": "markdown",
   "metadata": {},
   "source": [
    "# 2 . Decision Tree"
   ]
  },
  {
   "cell_type": "code",
   "execution_count": 44,
   "metadata": {},
   "outputs": [
    {
     "name": "stdout",
     "output_type": "stream",
     "text": [
      "DecisionTreeClassifier(criterion='entropy', max_depth=2)\n"
     ]
    }
   ],
   "source": [
    "from sklearn import tree\n",
    "\n",
    "clf = tree.DecisionTreeClassifier(max_depth=2,criterion='entropy')\n",
    "print(clf)\n",
    "\n",
    "Dtree = clf.fit(X_train,y_train)\n",
    "prediction = Dtree.predict(X_test)"
   ]
  },
  {
   "cell_type": "code",
   "execution_count": 45,
   "metadata": {},
   "outputs": [
    {
     "name": "stdout",
     "output_type": "stream",
     "text": [
      "              precision    recall  f1-score   support\n",
      "\n",
      "           0       0.92      0.90      0.91      1080\n",
      "           1       0.89      0.90      0.90       918\n",
      "\n",
      "    accuracy                           0.90      1998\n",
      "   macro avg       0.90      0.90      0.90      1998\n",
      "weighted avg       0.90      0.90      0.90      1998\n",
      "\n",
      "[[976 104]\n",
      " [ 88 830]]\n"
     ]
    }
   ],
   "source": [
    "# Measuring accuracy on Testing Data\n",
    "from sklearn import metrics\n",
    "print(metrics.classification_report(y_test, prediction))\n",
    "print(metrics.confusion_matrix(y_test, prediction))"
   ]
  },
  {
   "cell_type": "code",
   "execution_count": 46,
   "metadata": {},
   "outputs": [
    {
     "name": "stdout",
     "output_type": "stream",
     "text": [
      "Accuracy of the model on Testing Sample Data: 0.9\n"
     ]
    }
   ],
   "source": [
    "# Printing the Overall Accuracy of the model\n",
    "F1_Score=metrics.f1_score(y_test, prediction, average='weighted')\n",
    "print('Accuracy of the model on Testing Sample Data:', round(F1_Score,2))"
   ]
  },
  {
   "cell_type": "code",
   "execution_count": 48,
   "metadata": {},
   "outputs": [
    {
     "data": {
      "text/plain": [
       "<AxesSubplot:>"
      ]
     },
     "execution_count": 48,
     "metadata": {},
     "output_type": "execute_result"
    },
    {
     "data": {
      "image/png": "[encoded data removed]",
      "text/plain": [
       "<Figure size 432x288 with 1 Axes>"
      ]
     },
     "metadata": {
      "needs_background": "light"
     },
     "output_type": "display_data"
    }
   ],
   "source": [
    "# Plotting the feature importance for Top 10 most important columns\n",
    "%matplotlib inline\n",
    "feature_importances = pd.Series(Dtree.feature_importances_, index=Predictors)\n",
    "feature_importances.nlargest(10).plot(kind='barh')"
   ]
  },
  {
   "cell_type": "code",
   "execution_count": 50,
   "metadata": {},
   "outputs": [
    {
     "name": "stdout",
     "output_type": "stream",
     "text": [
      "\n",
      "Accuracy values for 10-fold Cross Validation:\n",
      " [0.92022157 0.88081772 0.87852085 0.92454929 0.91859248 0.90248142\n",
      " 0.89802557 0.93671902 0.92588299 0.90685001]\n",
      "\n",
      "Final Average Accuracy of the model: 0.91\n"
     ]
    }
   ],
   "source": [
    "from sklearn.model_selection import cross_val_score\n",
    "\n",
    "# Running 10-Fold Cross validation on a given algorithm\n",
    "# Passing full data X and y because the K-fold will split the data and automatically choose train/test\n",
    "Accuracy_Values=cross_val_score(Dtree, X , y, cv=10, scoring='f1_weighted')\n",
    "print('\\nAccuracy values for 10-fold Cross Validation:\\n',Accuracy_Values)\n",
    "print('\\nFinal Average Accuracy of the model:', round(Accuracy_Values.mean(),2))"
   ]
  },
  {
   "cell_type": "code",
   "execution_count": 51,
   "metadata": {},
   "outputs": [
    {
     "name": "stdout",
     "output_type": "stream",
     "text": [
      "Collecting dtreeplt\n",
      "  Downloading dtreeplt-0.1.43-py3-none-any.whl (7.0 kB)\n",
      "Requirement already satisfied: ipython>=7.2.0 in i:\\python\\anaconda\\lib\\site-packages (from dtreeplt) (7.19.0)\n",
      "Requirement already satisfied: scikit-learn>=0.20.2 in i:\\python\\anaconda\\lib\\site-packages (from dtreeplt) (0.24.2)\n",
      "Requirement already satisfied: ipywidgets>=7.4.2 in i:\\python\\anaconda\\lib\\site-packages (from dtreeplt) (7.5.1)\n",
      "Requirement already satisfied: numpy>=1.15.1 in i:\\python\\anaconda\\lib\\site-packages (from dtreeplt) (1.19.2)\n",
      "Requirement already satisfied: matplotlib>=3.0.2 in i:\\python\\anaconda\\lib\\site-packages (from dtreeplt) (3.3.2)\n",
      "Requirement already satisfied: pygments in i:\\python\\anaconda\\lib\\site-packages (from ipython>=7.2.0->dtreeplt) (2.7.2)\n",
      "Requirement already satisfied: prompt-toolkit!=3.0.0,!=3.0.1,<3.1.0,>=2.0.0 in i:\\python\\anaconda\\lib\\site-packages (from ipython>=7.2.0->dtreeplt) (3.0.8)\n",
      "Requirement already satisfied: jedi>=0.10 in i:\\python\\anaconda\\lib\\site-packages (from ipython>=7.2.0->dtreeplt) (0.17.1)\n",
      "Requirement already satisfied: traitlets>=4.2 in i:\\python\\anaconda\\lib\\site-packages (from ipython>=7.2.0->dtreeplt) (5.0.5)\n",
      "Requirement already satisfied: pickleshare in i:\\python\\anaconda\\lib\\site-packages (from ipython>=7.2.0->dtreeplt) (0.7.5)\n",
      "Requirement already satisfied: decorator in i:\\python\\anaconda\\lib\\site-packages (from ipython>=7.2.0->dtreeplt) (4.4.2)\n",
      "Requirement already satisfied: colorama; sys_platform == \"win32\" in i:\\python\\anaconda\\lib\\site-packages (from ipython>=7.2.0->dtreeplt) (0.4.4)\n",
      "Requirement already satisfied: setuptools>=18.5 in i:\\python\\anaconda\\lib\\site-packages (from ipython>=7.2.0->dtreeplt) (50.3.1.post20201107)\n",
      "Requirement already satisfied: backcall in i:\\python\\anaconda\\lib\\site-packages (from ipython>=7.2.0->dtreeplt) (0.2.0)\n",
      "Requirement already satisfied: scipy>=0.19.1 in i:\\python\\anaconda\\lib\\site-packages (from scikit-learn>=0.20.2->dtreeplt) (1.5.2)\n",
      "Requirement already satisfied: threadpoolctl>=2.0.0 in i:\\python\\anaconda\\lib\\site-packages (from scikit-learn>=0.20.2->dtreeplt) (2.1.0)\n",
      "Requirement already satisfied: joblib>=0.11 in i:\\python\\anaconda\\lib\\site-packages (from scikit-learn>=0.20.2->dtreeplt) (0.17.0)\n",
      "Requirement already satisfied: widgetsnbextension~=3.5.0 in i:\\python\\anaconda\\lib\\site-packages (from ipywidgets>=7.4.2->dtreeplt) (3.5.1)\n",
      "Requirement already satisfied: nbformat>=4.2.0 in i:\\python\\anaconda\\lib\\site-packages (from ipywidgets>=7.4.2->dtreeplt) (5.0.8)\n",
      "Requirement already satisfied: ipykernel>=4.5.1 in i:\\python\\anaconda\\lib\\site-packages (from ipywidgets>=7.4.2->dtreeplt) (5.3.4)\n",
      "Requirement already satisfied: kiwisolver>=1.0.1 in i:\\python\\anaconda\\lib\\site-packages (from matplotlib>=3.0.2->dtreeplt) (1.3.0)\n",
      "Requirement already satisfied: pyparsing!=2.0.4,!=2.1.2,!=2.1.6,>=2.0.3 in i:\\python\\anaconda\\lib\\site-packages (from matplotlib>=3.0.2->dtreeplt) (2.4.7)\n",
      "Requirement already satisfied: python-dateutil>=2.1 in i:\\python\\anaconda\\lib\\site-packages (from matplotlib>=3.0.2->dtreeplt) (2.8.1)\n",
      "Requirement already satisfied: certifi>=2020.06.20 in i:\\python\\anaconda\\lib\\site-packages (from matplotlib>=3.0.2->dtreeplt) (2020.6.20)\n",
      "Requirement already satisfied: pillow>=6.2.0 in i:\\python\\anaconda\\lib\\site-packages (from matplotlib>=3.0.2->dtreeplt) (8.0.1)\n",
      "Requirement already satisfied: cycler>=0.10 in i:\\python\\anaconda\\lib\\site-packages (from matplotlib>=3.0.2->dtreeplt) (0.10.0)\n",
      "Requirement already satisfied: wcwidth in i:\\python\\anaconda\\lib\\site-packages (from prompt-toolkit!=3.0.0,!=3.0.1,<3.1.0,>=2.0.0->ipython>=7.2.0->dtreeplt) (0.2.5)\n",
      "Requirement already satisfied: parso<0.8.0,>=0.7.0 in i:\\python\\anaconda\\lib\\site-packages (from jedi>=0.10->ipython>=7.2.0->dtreeplt) (0.7.0)\n",
      "Requirement already satisfied: ipython-genutils in i:\\python\\anaconda\\lib\\site-packages (from traitlets>=4.2->ipython>=7.2.0->dtreeplt) (0.2.0)\n",
      "Requirement already satisfied: notebook>=4.4.1 in i:\\python\\anaconda\\lib\\site-packages (from widgetsnbextension~=3.5.0->ipywidgets>=7.4.2->dtreeplt) (6.1.4)\n",
      "Requirement already satisfied: jsonschema!=2.5.0,>=2.4 in i:\\python\\anaconda\\lib\\site-packages (from nbformat>=4.2.0->ipywidgets>=7.4.2->dtreeplt) (3.2.0)\n",
      "Requirement already satisfied: jupyter-core in i:\\python\\anaconda\\lib\\site-packages (from nbformat>=4.2.0->ipywidgets>=7.4.2->dtreeplt) (4.6.3)\n",
      "Requirement already satisfied: jupyter-client in i:\\python\\anaconda\\lib\\site-packages (from ipykernel>=4.5.1->ipywidgets>=7.4.2->dtreeplt) (6.1.7)\n",
      "Requirement already satisfied: tornado>=4.2 in i:\\python\\anaconda\\lib\\site-packages (from ipykernel>=4.5.1->ipywidgets>=7.4.2->dtreeplt) (6.1)\n",
      "Requirement already satisfied: six>=1.5 in i:\\python\\anaconda\\lib\\site-packages (from python-dateutil>=2.1->matplotlib>=3.0.2->dtreeplt) (1.15.0)\n",
      "Requirement already satisfied: terminado>=0.8.3 in i:\\python\\anaconda\\lib\\site-packages (from notebook>=4.4.1->widgetsnbextension~=3.5.0->ipywidgets>=7.4.2->dtreeplt) (0.9.1)\n",
      "Requirement already satisfied: prometheus-client in i:\\python\\anaconda\\lib\\site-packages (from notebook>=4.4.1->widgetsnbextension~=3.5.0->ipywidgets>=7.4.2->dtreeplt) (0.8.0)\n",
      "Requirement already satisfied: jinja2 in i:\\python\\anaconda\\lib\\site-packages (from notebook>=4.4.1->widgetsnbextension~=3.5.0->ipywidgets>=7.4.2->dtreeplt) (2.11.2)\n",
      "Requirement already satisfied: argon2-cffi in i:\\python\\anaconda\\lib\\site-packages (from notebook>=4.4.1->widgetsnbextension~=3.5.0->ipywidgets>=7.4.2->dtreeplt) (20.1.0)\n",
      "Requirement already satisfied: Send2Trash in i:\\python\\anaconda\\lib\\site-packages (from notebook>=4.4.1->widgetsnbextension~=3.5.0->ipywidgets>=7.4.2->dtreeplt) (1.5.0)\n",
      "Requirement already satisfied: pyzmq>=17 in i:\\python\\anaconda\\lib\\site-packages (from notebook>=4.4.1->widgetsnbextension~=3.5.0->ipywidgets>=7.4.2->dtreeplt) (19.0.2)\n",
      "Requirement already satisfied: nbconvert in i:\\python\\anaconda\\lib\\site-packages (from notebook>=4.4.1->widgetsnbextension~=3.5.0->ipywidgets>=7.4.2->dtreeplt) (6.0.7)\n",
      "Requirement already satisfied: pyrsistent>=0.14.0 in i:\\python\\anaconda\\lib\\site-packages (from jsonschema!=2.5.0,>=2.4->nbformat>=4.2.0->ipywidgets>=7.4.2->dtreeplt) (0.17.3)\n",
      "Requirement already satisfied: attrs>=17.4.0 in i:\\python\\anaconda\\lib\\site-packages (from jsonschema!=2.5.0,>=2.4->nbformat>=4.2.0->ipywidgets>=7.4.2->dtreeplt) (20.3.0)\n",
      "Requirement already satisfied: pywin32>=1.0; sys_platform == \"win32\" in i:\\python\\anaconda\\lib\\site-packages (from jupyter-core->nbformat>=4.2.0->ipywidgets>=7.4.2->dtreeplt) (227)\n",
      "Requirement already satisfied: pywinpty>=0.5 in i:\\python\\anaconda\\lib\\site-packages (from terminado>=0.8.3->notebook>=4.4.1->widgetsnbextension~=3.5.0->ipywidgets>=7.4.2->dtreeplt) (0.5.7)\n",
      "Requirement already satisfied: MarkupSafe>=0.23 in i:\\python\\anaconda\\lib\\site-packages (from jinja2->notebook>=4.4.1->widgetsnbextension~=3.5.0->ipywidgets>=7.4.2->dtreeplt) (1.1.1)\n",
      "Requirement already satisfied: cffi>=1.0.0 in i:\\python\\anaconda\\lib\\site-packages (from argon2-cffi->notebook>=4.4.1->widgetsnbextension~=3.5.0->ipywidgets>=7.4.2->dtreeplt) (1.14.3)\n",
      "Requirement already satisfied: defusedxml in i:\\python\\anaconda\\lib\\site-packages (from nbconvert->notebook>=4.4.1->widgetsnbextension~=3.5.0->ipywidgets>=7.4.2->dtreeplt) (0.6.0)\n",
      "Requirement already satisfied: bleach in i:\\python\\anaconda\\lib\\site-packages (from nbconvert->notebook>=4.4.1->widgetsnbextension~=3.5.0->ipywidgets>=7.4.2->dtreeplt) (3.2.1)\n",
      "Requirement already satisfied: entrypoints>=0.2.2 in i:\\python\\anaconda\\lib\\site-packages (from nbconvert->notebook>=4.4.1->widgetsnbextension~=3.5.0->ipywidgets>=7.4.2->dtreeplt) (0.3)\n",
      "Requirement already satisfied: jupyterlab-pygments in i:\\python\\anaconda\\lib\\site-packages (from nbconvert->notebook>=4.4.1->widgetsnbextension~=3.5.0->ipywidgets>=7.4.2->dtreeplt) (0.1.2)\n",
      "Requirement already satisfied: mistune<2,>=0.8.1 in i:\\python\\anaconda\\lib\\site-packages (from nbconvert->notebook>=4.4.1->widgetsnbextension~=3.5.0->ipywidgets>=7.4.2->dtreeplt) (0.8.4)\n",
      "Requirement already satisfied: testpath in i:\\python\\anaconda\\lib\\site-packages (from nbconvert->notebook>=4.4.1->widgetsnbextension~=3.5.0->ipywidgets>=7.4.2->dtreeplt) (0.4.4)\n",
      "Requirement already satisfied: nbclient<0.6.0,>=0.5.0 in i:\\python\\anaconda\\lib\\site-packages (from nbconvert->notebook>=4.4.1->widgetsnbextension~=3.5.0->ipywidgets>=7.4.2->dtreeplt) (0.5.1)\n",
      "Requirement already satisfied: pandocfilters>=1.4.1 in i:\\python\\anaconda\\lib\\site-packages (from nbconvert->notebook>=4.4.1->widgetsnbextension~=3.5.0->ipywidgets>=7.4.2->dtreeplt) (1.4.3)\n",
      "Requirement already satisfied: pycparser in i:\\python\\anaconda\\lib\\site-packages (from cffi>=1.0.0->argon2-cffi->notebook>=4.4.1->widgetsnbextension~=3.5.0->ipywidgets>=7.4.2->dtreeplt) (2.20)\n",
      "Requirement already satisfied: packaging in i:\\python\\anaconda\\lib\\site-packages (from bleach->nbconvert->notebook>=4.4.1->widgetsnbextension~=3.5.0->ipywidgets>=7.4.2->dtreeplt) (20.4)\n",
      "Requirement already satisfied: webencodings in i:\\python\\anaconda\\lib\\site-packages (from bleach->nbconvert->notebook>=4.4.1->widgetsnbextension~=3.5.0->ipywidgets>=7.4.2->dtreeplt) (0.5.1)\n",
      "Requirement already satisfied: nest-asyncio in i:\\python\\anaconda\\lib\\site-packages (from nbclient<0.6.0,>=0.5.0->nbconvert->notebook>=4.4.1->widgetsnbextension~=3.5.0->ipywidgets>=7.4.2->dtreeplt) (1.4.2)\n",
      "Requirement already satisfied: async-generator in i:\\python\\anaconda\\lib\\site-packages (from nbclient<0.6.0,>=0.5.0->nbconvert->notebook>=4.4.1->widgetsnbextension~=3.5.0->ipywidgets>=7.4.2->dtreeplt) (1.10)\n",
      "Installing collected packages: dtreeplt\n",
      "Successfully installed dtreeplt-0.1.43\n",
      "Note: you may need to restart the kernel to use updated packages.\n"
     ]
    }
   ],
   "source": [
    "pip install dtreeplt"
   ]
  },
  {
   "cell_type": "code",
   "execution_count": 52,
   "metadata": {},
   "outputs": [
    {
     "data": {
      "image/png": "[encoded data removed]",
      "text/plain": [
       "<Figure size 1440x720 with 1 Axes>"
      ]
     },
     "metadata": {},
     "output_type": "display_data"
    }
   ],
   "source": [
    "from dtreeplt import dtreeplt\n",
    "dtree = dtreeplt(model=clf, feature_names=Predictors, target_names=TargetVariable)\n",
    "fig = dtree.view()\n",
    "currentFigure=plt.gcf()\n",
    "currentFigure.set_size_inches(20,10)"
   ]
  },
  {
   "cell_type": "markdown",
   "metadata": {},
   "source": [
    "# 3. Random Forest"
   ]
  },
  {
   "cell_type": "code",
   "execution_count": 53,
   "metadata": {},
   "outputs": [
    {
     "name": "stdout",
     "output_type": "stream",
     "text": [
      "RandomForestClassifier(max_depth=2)\n"
     ]
    }
   ],
   "source": [
    "from sklearn.ensemble import RandomForestClassifier\n",
    "clf = RandomForestClassifier(max_depth=2, n_estimators=100,criterion='gini')\n",
    "\n",
    "# Printing all the parameters of Random Forest\n",
    "print(clf)\n",
    "\n",
    "# Creating the model on Training Data\n",
    "RF=clf.fit(X_train,y_train)\n",
    "prediction=RF.predict(X_test)\n",
    "\n"
   ]
  },
  {
   "cell_type": "code",
   "execution_count": 54,
   "metadata": {},
   "outputs": [
    {
     "name": "stdout",
     "output_type": "stream",
     "text": [
      "              precision    recall  f1-score   support\n",
      "\n",
      "           0       0.87      0.99      0.92      1080\n",
      "           1       0.98      0.83      0.90       918\n",
      "\n",
      "    accuracy                           0.91      1998\n",
      "   macro avg       0.93      0.91      0.91      1998\n",
      "weighted avg       0.92      0.91      0.91      1998\n",
      "\n",
      "[[1065   15]\n",
      " [ 158  760]]\n"
     ]
    }
   ],
   "source": [
    "# Measuring accuracy on Testing Data\n",
    "from sklearn import metrics\n",
    "print(metrics.classification_report(y_test, prediction))\n",
    "print(metrics.confusion_matrix(y_test, prediction))\n",
    "\n"
   ]
  },
  {
   "cell_type": "code",
   "execution_count": 55,
   "metadata": {},
   "outputs": [
    {
     "name": "stdout",
     "output_type": "stream",
     "text": [
      "Accuracy of the model on Testing Sample Data: 0.91\n"
     ]
    }
   ],
   "source": [
    "# Printing the Overall Accuracy of the model\n",
    "F1_Score=metrics.f1_score(y_test, prediction, average='weighted')\n",
    "print('Accuracy of the model on Testing Sample Data:', round(F1_Score,2))\n",
    "\n"
   ]
  },
  {
   "cell_type": "code",
   "execution_count": 56,
   "metadata": {},
   "outputs": [
    {
     "name": "stdout",
     "output_type": "stream",
     "text": [
      "\n",
      "Accuracy values for 10-fold Cross Validation:\n",
      " [0.92603945 0.88676517 0.90755131 0.92740978 0.91647518 0.94246372\n",
      " 0.92434052 0.93963164 0.92561684 0.89928947]\n",
      "\n",
      "Final Average Accuracy of the model: 0.92\n"
     ]
    }
   ],
   "source": [
    "# Importing cross validation function from sklearn\n",
    "from sklearn.model_selection import cross_val_score\n",
    "\n",
    "# Running 10-Fold Cross validation on a given algorithm\n",
    "# Passing full data X and y because the K-fold will split the data and automatically choose train/test\n",
    "Accuracy_Values=cross_val_score(RF, X , y, cv=10, scoring='f1_weighted')\n",
    "print('\\nAccuracy values for 10-fold Cross Validation:\\n',Accuracy_Values)\n",
    "print('\\nFinal Average Accuracy of the model:', round(Accuracy_Values.mean(),2))\n"
   ]
  },
  {
   "cell_type": "code",
   "execution_count": 57,
   "metadata": {},
   "outputs": [
    {
     "data": {
      "text/plain": [
       "<AxesSubplot:>"
      ]
     },
     "execution_count": 57,
     "metadata": {},
     "output_type": "execute_result"
    },
    {
     "data": {
      "image/png": "[encoded data removed]",
      "text/plain": [
       "<Figure size 432x288 with 1 Axes>"
      ]
     },
     "metadata": {
      "needs_background": "light"
     },
     "output_type": "display_data"
    }
   ],
   "source": [
    "\n",
    "# Plotting the feature importance for Top 10 most important columns\n",
    "%matplotlib inline\n",
    "feature_importances = pd.Series(RF.feature_importances_, index=Predictors)\n",
    "feature_importances.nlargest(10).plot(kind='barh')"
   ]
  },
  {
   "cell_type": "code",
   "execution_count": 58,
   "metadata": {},
   "outputs": [
    {
     "data": {
      "image/png": "[encoded data removed]",
      "text/plain": [
       "<Figure size 1555.2x720 with 1 Axes>"
      ]
     },
     "metadata": {},
     "output_type": "display_data"
    }
   ],
   "source": [
    "# PLotting a single Decision Tree from Random Forest\n",
    "from dtreeplt import dtreeplt\n",
    "dtree = dtreeplt(model=clf.estimators_[4], feature_names=Predictors, target_names=TargetVariable)\n",
    "fig = dtree.view()"
   ]
  },
  {
   "cell_type": "markdown",
   "metadata": {},
   "source": [
    "# 4. ADA BOOST"
   ]
  },
  {
   "cell_type": "code",
   "execution_count": 59,
   "metadata": {},
   "outputs": [
    {
     "name": "stdout",
     "output_type": "stream",
     "text": [
      "AdaBoostClassifier(base_estimator=DecisionTreeClassifier(max_depth=1),\n",
      "                   learning_rate=0.01, n_estimators=500)\n"
     ]
    }
   ],
   "source": [
    "# Adaboost \n",
    "from sklearn.ensemble import AdaBoostClassifier\n",
    "from sklearn.tree import DecisionTreeClassifier\n",
    "\n",
    "# Choosing Decision Tree with 1 level as the weak learner\n",
    "DTC=DecisionTreeClassifier(max_depth=1)\n",
    "clf = AdaBoostClassifier(n_estimators=500, base_estimator=DTC ,learning_rate=0.01)\n",
    "\n",
    "# Printing all the parameters of Adaboost\n",
    "print(clf)\n",
    "\n",
    "# Creating the model on Training Data\n",
    "AB=clf.fit(X_train,y_train)\n",
    "prediction=AB.predict(X_test)\n"
   ]
  },
  {
   "cell_type": "code",
   "execution_count": 63,
   "metadata": {},
   "outputs": [
    {
     "name": "stdout",
     "output_type": "stream",
     "text": [
      "******************* CLASSIFICATION REPORT *************\n",
      "              precision    recall  f1-score   support\n",
      "\n",
      "           0       0.91      0.97      0.94      1080\n",
      "           1       0.97      0.89      0.93       918\n",
      "\n",
      "    accuracy                           0.94      1998\n",
      "   macro avg       0.94      0.93      0.94      1998\n",
      "weighted avg       0.94      0.94      0.94      1998\n",
      "\n",
      "******************* CONFUSION MATRIX*************\n",
      "[[1052   28]\n",
      " [  99  819]]\n",
      "******************* Overall Accuracy of the model *************\n",
      "Accuracy of the model on Testing Sample Data: 0.94\n"
     ]
    }
   ],
   "source": [
    "\n",
    "# Measuring accuracy on Testing Data\n",
    "from sklearn import metrics\n",
    "print(\"******************* CLASSIFICATION REPORT *************\")\n",
    "print(metrics.classification_report(y_test, prediction))\n",
    "print(\"******************* CONFUSION MATRIX*************\")\n",
    "print(metrics.confusion_matrix(y_test, prediction))\n",
    "\n",
    "print(\"******************* Overall Accuracy of the model *************\")\n",
    "# Printing the Overall Accuracy of the model\n",
    "F1_Score=metrics.f1_score(y_test, prediction, average='weighted')\n",
    "print('Accuracy of the model on Testing Sample Data:', round(F1_Score,2))\n",
    "\n"
   ]
  },
  {
   "cell_type": "code",
   "execution_count": 64,
   "metadata": {},
   "outputs": [
    {
     "data": {
      "text/plain": [
       "<AxesSubplot:>"
      ]
     },
     "execution_count": 64,
     "metadata": {},
     "output_type": "execute_result"
    },
    {
     "data": {
      "image/png": "[encoded data removed]",
      "text/plain": [
       "<Figure size 432x288 with 1 Axes>"
      ]
     },
     "metadata": {
      "needs_background": "light"
     },
     "output_type": "display_data"
    }
   ],
   "source": [
    "\n",
    "# Plotting the feature importance for Top 10 most important columns\n",
    "%matplotlib inline\n",
    "feature_importances = pd.Series(AB.feature_importances_, index=Predictors)\n",
    "feature_importances.nlargest(10).plot(kind='barh')"
   ]
  },
  {
   "cell_type": "code",
   "execution_count": 65,
   "metadata": {},
   "outputs": [
    {
     "data": {
      "image/png": "[encoded data removed]",
      "text/plain": [
       "<Figure size 518.4x360 with 1 Axes>"
      ]
     },
     "metadata": {},
     "output_type": "display_data"
    }
   ],
   "source": [
    "# PLotting 5th single Decision Tree from Adaboost\n",
    "from dtreeplt import dtreeplt\n",
    "dtree = dtreeplt(model=clf.estimators_[5], feature_names=Predictors, target_names=TargetVariable)\n",
    "fig = dtree.view()"
   ]
  },
  {
   "cell_type": "markdown",
   "metadata": {},
   "source": [
    "# 5 KNN"
   ]
  },
  {
   "cell_type": "code",
   "execution_count": 67,
   "metadata": {},
   "outputs": [
    {
     "name": "stdout",
     "output_type": "stream",
     "text": [
      "KNeighborsClassifier(n_neighbors=3)\n",
      "              precision    recall  f1-score   support\n",
      "\n",
      "           0       0.74      0.81      0.77      1080\n",
      "           1       0.75      0.66      0.70       918\n",
      "\n",
      "    accuracy                           0.74      1998\n",
      "   macro avg       0.74      0.74      0.74      1998\n",
      "weighted avg       0.74      0.74      0.74      1998\n",
      "\n",
      "[[874 206]\n",
      " [311 607]]\n",
      "Accuracy of the model on Testing Sample Data: 0.74\n",
      "\n",
      "Accuracy values for 10-fold Cross Validation:\n",
      " [0.75843342 0.75583557 0.7433355  0.78247402 0.74582845 0.74049448\n",
      " 0.75483191 0.76644885 0.73787474 0.75479348]\n",
      "\n",
      "Final Average Accuracy of the model: 0.75\n"
     ]
    }
   ],
   "source": [
    "# K-Nearest Neighbor(KNN)\n",
    "from sklearn.neighbors import KNeighborsClassifier\n",
    "clf = KNeighborsClassifier(n_neighbors=3)\n",
    "\n",
    "# Printing all the parameters of KNN\n",
    "print(clf)\n",
    "\n",
    "# Creating the model on Training Data\n",
    "KNN=clf.fit(X_train,y_train)\n",
    "prediction=KNN.predict(X_test)\n",
    "\n",
    "# Measuring accuracy on Testing Data\n",
    "from sklearn import metrics\n",
    "print(metrics.classification_report(y_test, prediction))\n",
    "print(metrics.confusion_matrix(y_test, prediction))\n",
    "\n",
    "# Printing the Overall Accuracy of the model\n",
    "F1_Score=metrics.f1_score(y_test, prediction, average='weighted')\n",
    "print('Accuracy of the model on Testing Sample Data:', round(F1_Score,2))\n",
    "\n",
    "# Importing cross validation function from sklearn\n",
    "from sklearn.model_selection import cross_val_score\n",
    "\n",
    "# Running 10-Fold Cross validation on a given algorithm\n",
    "# Passing full data X and y because the K-fold will split the data and automatically choose train/test\n",
    "Accuracy_Values=cross_val_score(KNN, X , y, cv=10, scoring='f1_weighted')\n",
    "print('\\nAccuracy values for 10-fold Cross Validation:\\n',Accuracy_Values)\n",
    "print('\\nFinal Average Accuracy of the model:', round(Accuracy_Values.mean(),2))\n",
    "\n",
    "# Plotting the feature importance for Top 10 most important columns\n",
    "# There is no built-in method to get feature importance in KNN"
   ]
  },
  {
   "cell_type": "markdown",
   "metadata": {},
   "source": [
    "# 6 SVM"
   ]
  },
  {
   "cell_type": "code",
   "execution_count": 68,
   "metadata": {},
   "outputs": [
    {
     "name": "stdout",
     "output_type": "stream",
     "text": [
      "SVC(C=3, gamma=0.1)\n",
      "              precision    recall  f1-score   support\n",
      "\n",
      "           0       0.91      0.97      0.94      1080\n",
      "           1       0.97      0.88      0.92       918\n",
      "\n",
      "    accuracy                           0.93      1998\n",
      "   macro avg       0.94      0.93      0.93      1998\n",
      "weighted avg       0.93      0.93      0.93      1998\n",
      "\n",
      "[[1052   28]\n",
      " [ 107  811]]\n",
      "Accuracy of the model on Testing Sample Data: 0.93\n",
      "\n",
      "Accuracy values for 10-fold Cross Validation:\n",
      " [0.93839432 0.89506222 0.92160758 0.93512863 0.93353373 0.94259731\n",
      " 0.94415224 0.94729481 0.94107037 0.93204514]\n",
      "\n",
      "Final Average Accuracy of the model: 0.93\n"
     ]
    }
   ],
   "source": [
    "# Support Vector Machines(SVM)\n",
    "from sklearn import svm\n",
    "clf = svm.SVC(C=3, kernel='rbf', gamma=0.1)\n",
    "\n",
    "# Printing all the parameters of KNN\n",
    "print(clf)\n",
    "\n",
    "# Creating the model on Training Data\n",
    "SVM=clf.fit(X_train,y_train)\n",
    "prediction=SVM.predict(X_test)\n",
    "\n",
    "# Measuring accuracy on Testing Data\n",
    "from sklearn import metrics\n",
    "print(metrics.classification_report(y_test, prediction))\n",
    "print(metrics.confusion_matrix(y_test, prediction))\n",
    "\n",
    "# Printing the Overall Accuracy of the model\n",
    "F1_Score=metrics.f1_score(y_test, prediction, average='weighted')\n",
    "print('Accuracy of the model on Testing Sample Data:', round(F1_Score,2))\n",
    "\n",
    "# Importing cross validation function from sklearn\n",
    "from sklearn.model_selection import cross_val_score\n",
    "\n",
    "# Running 10-Fold Cross validation on a given algorithm\n",
    "# Passing full data X and y because the K-fold will split the data and automatically choose train/test\n",
    "Accuracy_Values=cross_val_score(SVM, X , y, cv=10, scoring='f1_weighted')\n",
    "print('\\nAccuracy values for 10-fold Cross Validation:\\n',Accuracy_Values)\n",
    "print('\\nFinal Average Accuracy of the model:', round(Accuracy_Values.mean(),2))\n",
    "\n",
    "\n",
    "# Plotting the feature importance for Top 10 most important columns\n",
    "# The built in attribute SVM.coef_ works only for linear kernel\n",
    "%matplotlib inline\n",
    "#feature_importances = pd.Series(SVM.coef_[0], index=Predictors)\n",
    "#feature_importances.nlargest(10).plot(kind='barh')"
   ]
  },
  {
   "cell_type": "markdown",
   "metadata": {},
   "source": [
    "# Deployment of the Model\n",
    "    Based on the above trials you select that algorithm which produces the best average accuracy. \n",
    "    In this case, multiple algorithms have produced similar kind of average accuracy.\n",
    "    Hence, we can choose any one of them.\n",
    "\n",
    "    I am choosing Adaboost as the final model since it is very fast and I observe that it is using the predictors better by looking at its variable importance chart. It is not letting a single predictor dominate the decision, which is good.\n",
    "\n",
    "    In order to deploy the model we follow below steps\n",
    "\n",
    "    1.Train the model using 100% data available\n",
    "    2.Save the model as a serialized file which can be stored anywhere\n",
    "    3.Create a python function which gets integrated with front-end(Tableau/Java Website etc.) to take all the inputs and returns the prediction"
   ]
  },
  {
   "cell_type": "markdown",
   "metadata": {},
   "source": [
    "# Step 1. Retraining the model using 100% data and only the best variables\n"
   ]
  },
  {
   "cell_type": "code",
   "execution_count": 69,
   "metadata": {},
   "outputs": [],
   "source": [
    "# Separate Target Variable and Predictor Variables\n",
    "TargetVariable='Clicked'\n",
    "# Best predictors based on the multiple variable importance charts above\n",
    "Predictors=[\"Time_Spent\", \"Avg_Income\", \"Internet_Usage\"]\n",
    "\n",
    "X=DataForML_Numeric[Predictors].values\n",
    "y=DataForML_Numeric[TargetVariable].values"
   ]
  },
  {
   "cell_type": "code",
   "execution_count": 70,
   "metadata": {},
   "outputs": [],
   "source": [
    "# Adaboost \n",
    "from sklearn.ensemble import AdaBoostClassifier\n",
    "from sklearn.tree import DecisionTreeClassifier\n",
    "\n",
    "# Using the Adaboost algorithm with final hyperparamters\n",
    "# Choosing Decision Tree with 1 level as the weak learner\n",
    "DTC=DecisionTreeClassifier(max_depth=1)\n",
    "clf = AdaBoostClassifier(n_estimators=500, base_estimator=DTC ,learning_rate=0.01)\n",
    "\n",
    "# Training the model on 100% Data available\n",
    "FinalAdaboostModel=clf.fit(X,y)"
   ]
  },
  {
   "cell_type": "markdown",
   "metadata": {},
   "source": [
    "# Step 2. Save the model as a serialized file which can be stored anywhere\n"
   ]
  },
  {
   "cell_type": "code",
   "execution_count": 72,
   "metadata": {},
   "outputs": [
    {
     "name": "stdout",
     "output_type": "stream",
     "text": [
      "pickle file of Predictive Model is saved at Location: I:\\python\\jupyuter notebook\\self\\ml algo practise\n"
     ]
    }
   ],
   "source": [
    "import pickle\n",
    "import os\n",
    "\n",
    "# Saving the Python objects as serialized files can be done using pickle library\n",
    "# Here let us save the Final Model\n",
    "with open('FinalAdaboostModel.pkl', 'wb') as fileWriteStream:\n",
    "    pickle.dump(FinalAdaboostModel, fileWriteStream)\n",
    "    # Don't forget to close the filestream!\n",
    "    fileWriteStream.close()\n",
    "    \n",
    "print('pickle file of Predictive Model is saved at Location:',os.getcwd())"
   ]
  },
  {
   "cell_type": "markdown",
   "metadata": {},
   "source": [
    "# Step 3. Create a python function"
   ]
  },
  {
   "cell_type": "code",
   "execution_count": 74,
   "metadata": {},
   "outputs": [],
   "source": [
    "def PredictClickStatus(InputData):\n",
    "    import pandas as pd\n",
    "    Num_Inputs=InputData.shape[0]\n",
    "    \n",
    "    # Making sure the input data has same columns as it was used for training the model\n",
    "    # Also, if standardization/normalization was done, then same must be done for new input\n",
    "    \n",
    "    # Appending the new data with the Training data\n",
    "    DataForML=pd.read_pickle('DataForML.pkl')\n",
    "    InputData=InputData.append(DataForML)\n",
    "    \n",
    "    # Treating the binary nominal variables first\n",
    "    # Every column which was converted to numeric has to be converted here as well\n",
    "    InputData['Male'].replace({'Yes':1, 'No':0}, inplace=True)\n",
    "    \n",
    "    # Generating dummy variables for rest of the nominal variables\n",
    "    InputData=pd.get_dummies(InputData)\n",
    "            \n",
    "    # Maintaining the same order of columns as it was during the model training\n",
    "    Predictors=[\"Time_Spent\", \"Avg_Income\", \"Internet_Usage\"]\n",
    "    \n",
    "    # Generating the input values to the model\n",
    "    X=InputData[Predictors].values[0:Num_Inputs]    \n",
    "    \n",
    "    # Loading the Function from pickle file\n",
    "    import pickle\n",
    "    with open('FinalAdaboostModel.pkl', 'rb') as fileReadStream:\n",
    "        AdaBoost_model=pickle.load(fileReadStream)\n",
    "        # Don't forget to close the filestream!\n",
    "        fileReadStream.close()\n",
    "            \n",
    "    # Genrating Predictions\n",
    "    Prediction=AdaBoost_model.predict(X)\n",
    "    PredictedStatus=pd.DataFrame(Prediction, columns=['ClickPrediction'])\n",
    "    return(PredictedStatus)"
   ]
  },
  {
   "cell_type": "code",
   "execution_count": 75,
   "metadata": {},
   "outputs": [
    {
     "data": {
      "text/html": [
       "<div>\n",
       "<style scoped>\n",
       "    .dataframe tbody tr th:only-of-type {\n",
       "        vertical-align: middle;\n",
       "    }\n",
       "\n",
       "    .dataframe tbody tr th {\n",
       "        vertical-align: top;\n",
       "    }\n",
       "\n",
       "    .dataframe thead th {\n",
       "        text-align: right;\n",
       "    }\n",
       "</style>\n",
       "<table border=\"1\" class=\"dataframe\">\n",
       "  <thead>\n",
       "    <tr style=\"text-align: right;\">\n",
       "      <th></th>\n",
       "      <th>Time_Spent</th>\n",
       "      <th>Avg_Income</th>\n",
       "      <th>Internet_Usage</th>\n",
       "    </tr>\n",
       "  </thead>\n",
       "  <tbody>\n",
       "    <tr>\n",
       "      <th>0</th>\n",
       "      <td>87.97</td>\n",
       "      <td>55901.12</td>\n",
       "      <td>185.46</td>\n",
       "    </tr>\n",
       "    <tr>\n",
       "      <th>1</th>\n",
       "      <td>51.63</td>\n",
       "      <td>39132.00</td>\n",
       "      <td>176.73</td>\n",
       "    </tr>\n",
       "    <tr>\n",
       "      <th>2</th>\n",
       "      <td>82.37</td>\n",
       "      <td>57032.36</td>\n",
       "      <td>210.60</td>\n",
       "    </tr>\n",
       "    <tr>\n",
       "      <th>3</th>\n",
       "      <td>62.06</td>\n",
       "      <td>48868.00</td>\n",
       "      <td>190.05</td>\n",
       "    </tr>\n",
       "    <tr>\n",
       "      <th>4</th>\n",
       "      <td>77.66</td>\n",
       "      <td>61608.23</td>\n",
       "      <td>204.86</td>\n",
       "    </tr>\n",
       "  </tbody>\n",
       "</table>\n",
       "</div>"
      ],
      "text/plain": [
       "   Time_Spent  Avg_Income  Internet_Usage\n",
       "0       87.97    55901.12          185.46\n",
       "1       51.63    39132.00          176.73\n",
       "2       82.37    57032.36          210.60\n",
       "3       62.06    48868.00          190.05\n",
       "4       77.66    61608.23          204.86"
      ]
     },
     "execution_count": 75,
     "metadata": {},
     "output_type": "execute_result"
    }
   ],
   "source": [
    "DataForML[[\"Time_Spent\", \"Avg_Income\", \"Internet_Usage\"]].head()"
   ]
  },
  {
   "cell_type": "code",
   "execution_count": 76,
   "metadata": {},
   "outputs": [
    {
     "data": {
      "text/html": [
       "<div>\n",
       "<style scoped>\n",
       "    .dataframe tbody tr th:only-of-type {\n",
       "        vertical-align: middle;\n",
       "    }\n",
       "\n",
       "    .dataframe tbody tr th {\n",
       "        vertical-align: top;\n",
       "    }\n",
       "\n",
       "    .dataframe thead th {\n",
       "        text-align: right;\n",
       "    }\n",
       "</style>\n",
       "<table border=\"1\" class=\"dataframe\">\n",
       "  <thead>\n",
       "    <tr style=\"text-align: right;\">\n",
       "      <th></th>\n",
       "      <th>Time_Spent</th>\n",
       "      <th>Avg_Income</th>\n",
       "      <th>Internet_Usage</th>\n",
       "      <th>ClickPrediction</th>\n",
       "    </tr>\n",
       "  </thead>\n",
       "  <tbody>\n",
       "    <tr>\n",
       "      <th>0</th>\n",
       "      <td>87.97</td>\n",
       "      <td>55901.12</td>\n",
       "      <td>185.46</td>\n",
       "      <td>0</td>\n",
       "    </tr>\n",
       "    <tr>\n",
       "      <th>1</th>\n",
       "      <td>51.63</td>\n",
       "      <td>5039132.00</td>\n",
       "      <td>176.73</td>\n",
       "      <td>1</td>\n",
       "    </tr>\n",
       "    <tr>\n",
       "      <th>2</th>\n",
       "      <td>51.63</td>\n",
       "      <td>5039132.00</td>\n",
       "      <td>176.73</td>\n",
       "      <td>1</td>\n",
       "    </tr>\n",
       "  </tbody>\n",
       "</table>\n",
       "</div>"
      ],
      "text/plain": [
       "   Time_Spent  Avg_Income  Internet_Usage  ClickPrediction\n",
       "0       87.97    55901.12          185.46                0\n",
       "1       51.63  5039132.00          176.73                1\n",
       "2       51.63  5039132.00          176.73                1"
      ]
     },
     "execution_count": 76,
     "metadata": {},
     "output_type": "execute_result"
    }
   ],
   "source": [
    "NewAds=pd.DataFrame(\n",
    "data=[[87.97,55901.12, 185.46],\n",
    "     [51.63, 5039132.00, 176.73],\n",
    "     [51.63, 5039132.00, 176.73]],\n",
    "columns=[\"Time_Spent\", \"Avg_Income\", \"Internet_Usage\"])\n",
    "\n",
    "# Calling the Function for prediction and storing with the input data\n",
    "NewAds['ClickPrediction']=PredictClickStatus(InputData= NewAds)\n",
    "NewAds\n"
   ]
  },
  {
   "cell_type": "markdown",
   "metadata": {},
   "source": [
    "# FLASK API"
   ]
  },
  {
   "cell_type": "code",
   "execution_count": 77,
   "metadata": {},
   "outputs": [
    {
     "data": {
      "text/plain": [
       "'{\"ClickPrediction\":{\"0\":1}}'"
      ]
     },
     "execution_count": 77,
     "metadata": {},
     "output_type": "execute_result"
    }
   ],
   "source": [
    "# Creating the function which can take Ad inputs and perform prediction\n",
    "\"Time_Spent\", \"Avg_Income\", \"Internet_Usage\"\n",
    "def FunctionClickPrediction(inp_Time_Spent, inp_Avg_Income, inp_Internet_Usage):\n",
    "    SampleInputData=pd.DataFrame(\n",
    "     data=[[inp_Time_Spent, inp_Avg_Income, inp_Internet_Usage]],\n",
    "     columns=[\"Time_Spent\", \"Avg_Income\", \"Internet_Usage\"])\n",
    "\n",
    "    # Calling the function defined above using the input parameters\n",
    "    Predictions=PredictClickStatus(InputData= SampleInputData)\n",
    "\n",
    "    # Returning the predicted Clicked status\n",
    "    return(Predictions.to_json())\n",
    "\n",
    "# Function call\n",
    "FunctionClickPrediction(inp_Time_Spent=40.97, \n",
    "                       inp_Avg_Income=55901.12,\n",
    "                       inp_Internet_Usage=195.46\n",
    "                       )\n"
   ]
  },
  {
   "cell_type": "code",
   "execution_count": 78,
   "metadata": {},
   "outputs": [],
   "source": [
    "from flask import Flask,request,jsonify\n",
    "import pickle\n",
    "import pandas as pd\n",
    "import numpy"
   ]
  },
  {
   "cell_type": "code",
   "execution_count": 79,
   "metadata": {},
   "outputs": [],
   "source": [
    "app = Flask(__name__)\n",
    "@app.route('/get_click_prediction', methods=[\"GET\"])\n",
    "def get_click_prediction():\n",
    "    try:\n",
    "        # Getting the paramters from API call\n",
    "        Time_Spent_value = float(request.args.get('Time_Spent'))\n",
    "        Avg_Income_value = float(request.args.get('Avg_Income'))\n",
    "        Internet_Usage_value=float(request.args.get('Internet_Usage'))\n",
    "                \n",
    "        # Calling the funtion to get click status\n",
    "        prediction_from_api=FunctionClickPrediction(inp_Time_Spent=Time_Spent_value,\n",
    "                               inp_Avg_Income=Avg_Income_value, \n",
    "                               inp_Internet_Usage=Internet_Usage_value,\n",
    "                               )\n",
    "\n",
    "        return (prediction_from_api)\n",
    "    \n",
    "    except Exception as e:\n",
    "        return('Something is not right!:'+str(e))"
   ]
  },
  {
   "cell_type": "code",
   "execution_count": null,
   "metadata": {},
   "outputs": [
    {
     "name": "stdout",
     "output_type": "stream",
     "text": [
      " * Serving Flask app \"__main__\" (lazy loading)\n",
      " * Environment: production\n",
      "   WARNING: This is a development server. Do not use it in a production deployment.\n",
      "   Use a production WSGI server instead.\n",
      " * Debug mode: on\n"
     ]
    },
    {
     "name": "stderr",
     "output_type": "stream",
     "text": [
      " * Running on http://127.0.0.1:8080/ (Press CTRL+C to quit)\n",
      "127.0.0.1 - - [17/Nov/2021 12:43:13] \"\u001b[33mGET / HTTP/1.1\u001b[0m\" 404 -\n",
      "127.0.0.1 - - [17/Nov/2021 12:43:13] \"\u001b[33mGET /favicon.ico HTTP/1.1\u001b[0m\" 404 -\n",
      "127.0.0.1 - - [17/Nov/2021 12:43:35] \"\u001b[37mGET /get_click_prediction?Time_Spent=40.97&Avg_Income=55901.12&Internet_Usage=195.46 HTTP/1.1\u001b[0m\" 200 -\n"
     ]
    }
   ],
   "source": [
    "import os\n",
    "if __name__ ==\"__main__\":\n",
    "    \n",
    "    # Hosting the API in localhost\n",
    "    app.run(host='127.0.0.1', port=8080, threaded=True, debug=True, use_reloader=False)"
   ]
  },
  {
   "cell_type": "code",
   "execution_count": null,
   "metadata": {},
   "outputs": [],
   "source": [
    "http://127.0.0.1:8080/get_click_prediction?Time_Spent=40.97&Avg_Income=55901.12&Internet_Usage=195.46"
   ]
  }
 ],
 "metadata": {
  "kernelspec": {
   "display_name": "Python 3",
   "language": "python",
   "name": "python3"
  },
  "language_info": {
   "codemirror_mode": {
    "name": "ipython",
    "version": 3
   },
   "file_extension": ".py",
   "mimetype": "text/x-python",
   "name": "python",
   "nbconvert_exporter": "python",
   "pygments_lexer": "ipython3",
   "version": "3.8.5"
  }
 },
 "nbformat": 4,
 "nbformat_minor": 4
}
